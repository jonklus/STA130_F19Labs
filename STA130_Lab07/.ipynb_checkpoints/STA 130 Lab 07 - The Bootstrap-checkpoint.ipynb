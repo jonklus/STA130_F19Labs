{
 "cells": [
  {
   "cell_type": "markdown",
   "metadata": {},
   "source": [
    "# STA 130 Lab 7: The Bootstrap\n",
    "*Your Name Here*"
   ]
  },
  {
   "cell_type": "markdown",
   "metadata": {},
   "source": [
    "The Central Limit Theorem was key in formulating the specific confidence interval for the estimate of the mean of a population we talked about in class.  For instance,  because the CLT says that the sample mean is normally distributed ($\\bar{X} \\sim N(\\mu, \\frac{\\sigma}{\\sqrt{n}})$), we can use the standard normal table to get critical values for the confidence interval.  These critical values scale the standard error of $\\bar{X}$\n",
    "(or any point estimator) to cover the desired level of confidence (e.g.  95%).  What if we didn’t have the CLT to tell us where to get these critical values from?  The goal of this lab is to investigate how to use bootstrapping to estimate confidence intervals."
   ]
  },
  {
   "cell_type": "markdown",
   "metadata": {},
   "source": [
    "## Bootstrapping"
   ]
  },
  {
   "cell_type": "markdown",
   "metadata": {},
   "source": [
    "The method of bootstrapping (or bootstrap sampling) allows us to estimate the confidence\n",
    "interval for a population parameter when we only know the estimator (a function) and have\n",
    "a sample.  That is, we don’t know where to get our critical value from.  Finding bootstrap\n",
    "confidence intervals generally goes like this:\n",
    "\n",
    "1.  Get your sample of size $n$.\n",
    "2.  Decide on a confidence level $(1-\\alpha)$.\n",
    "3.  Repeat $m$ times:\n",
    "      (a)  Randomly draw a sample of size $n$ with replacement from your original sample (this is called a “bootstrap sample”).\n",
    "      (b)  Calculate your point estimate of interest on this bootstrap sample.\n",
    "4.  Look  at  the  distribution  of  your $m$ estimates  (the  “bootstrap  distribution”).   If  it is  roughly  symmetric,  you  may  proceed. (There  is  another  method  for  asymmetric distributions, but we won’t get into that here.)\n",
    "5.  Order your $m$ bootstrap point estimates from lowest to highest.\n",
    "6.  Your $100(\\alpha/2)%$ lowest bootstrap estimate is your lower bound and your $100(1−\\alpha/2)%$ lowest  estimate  is  your  upper  bound  on  your  confidence  interval.   Thus,  if  we  have 1,000 bootstrap samples and a 95% confidence interval,  our lower bound will be the 25th lowest estimate our upper bound will be the 975th lowest estimate (25th largest estimate)."
   ]
  },
  {
   "cell_type": "markdown",
   "metadata": {},
   "source": [
    "## Why it works\n",
    "\n",
    "Bootstrapping gives us a reliable estimate of the confidence interval for a population parameter because, with an unbiased estimator:\n",
    "1.  Our sampling distribution is centered about our true population parameter value.\n",
    "2.  Our bootstrap distribution is centered about our sample’s estimate of the true population value. \n",
    "\n",
    "Thus,  with  a  symmetric  bootstrap  distribution,  we  expect  our  bootstrap  distribution  to\n",
    "have the same relationship to our one sample estimate as our sampling distribution (of the\n",
    "estimator, if we could draw lots of real samples) would have to the true population value."
   ]
  },
  {
   "cell_type": "markdown",
   "metadata": {},
   "source": [
    "## Data\n",
    "The RealEstate dataset (in excel and csv format) contains a collection of recent real estate listings in San Luis Obispo county.  The dataset contains the following fields:\n",
    "\n",
    "- MLS: Multiple listing service number for the house (unique ID).\n",
    "- Location:  city/town where the house is located.  In this dataset, all locations are in Santa Maria-Orcutt.\n",
    "- Price:  the most recent listing price of the house (in dollars).\n",
    "- Bedrooms:  number of bedrooms.\n",
    "- Bathrooms:  number of bathrooms.\n",
    "- Size:  size of the house in square feet.\n",
    "- Price/SQ.ft:  price of the house per square foot.\n",
    "- Status: type of sale.  Thee types are represented in the dataset: Short Sale, Foreclosure and Regular."
   ]
  },
  {
   "cell_type": "markdown",
   "metadata": {},
   "source": [
    "## Assignment\n",
    "Focus on the “Price” variable:  return a maximum 2 page report to answer these questions. Write your own function to perform the bootstrap, do not use any Python libraries that perform bootstrapping for you. \n",
    "\n",
    "1. Draw a histogram and boxplot of the “Price” variable.  Comment on the distribution.\n",
    "2. Mean of the housing prices:\n",
    "    - Obtain  a  point  estimate  and  a  95%  CI  of  the mean from  the  sample,  using  the central limit theorem.\n",
    "    - Find the standard error and 95% confidence interval of the estimate for mean of the  “Price”  variable  using  bootstrapping.   Use  different  number  of  iterations  for bootstrapping:  1000, 5000, 10000, and plot the obtained standard error against the number of iterations.  Compare the bootstrapping CIs with that obtained from the CLT.\n",
    "3. Median of the housing prices:  Can we still use CLT to find the 95% estimate of the median of the prices?  Repeat problem 2(b) for median."
   ]
  },
  {
   "cell_type": "code",
   "execution_count": null,
   "metadata": {},
   "outputs": [],
   "source": []
  }
 ],
 "metadata": {
  "kernelspec": {
   "display_name": "Python 3",
   "language": "python",
   "name": "python3"
  },
  "language_info": {
   "codemirror_mode": {
    "name": "ipython",
    "version": 3
   },
   "file_extension": ".py",
   "mimetype": "text/x-python",
   "name": "python",
   "nbconvert_exporter": "python",
   "pygments_lexer": "ipython3",
   "version": "3.7.3"
  }
 },
 "nbformat": 4,
 "nbformat_minor": 2
}
