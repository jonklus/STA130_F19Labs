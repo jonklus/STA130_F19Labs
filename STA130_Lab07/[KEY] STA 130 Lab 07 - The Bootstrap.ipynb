{
 "cells": [
  {
   "cell_type": "markdown",
   "metadata": {},
   "source": [
    "# STA 130 Lab 7: The Bootstrap\n",
    "*Your Name Here*"
   ]
  },
  {
   "cell_type": "markdown",
   "metadata": {},
   "source": [
    "The Central Limit Theorem was key in formulating the specific confidence interval for the estimate of the mean of a population we talked about in class.  For instance,  because the CLT says that the sample mean is normally distributed ($\\bar{X} \\sim N(\\mu, \\frac{\\sigma}{\\sqrt{n}})$), we can use the standard normal table to get critical values for the confidence interval.  These critical values scale the standard error of $\\bar{X}$\n",
    "(or any point estimator) to cover the desired level of confidence (e.g.  95%).  What if we didn’t have the CLT to tell us where to get these critical values from?  The goal of this lab is to investigate how to use bootstrapping to estimate confidence intervals."
   ]
  },
  {
   "cell_type": "markdown",
   "metadata": {},
   "source": [
    "## Bootstrapping"
   ]
  },
  {
   "cell_type": "markdown",
   "metadata": {},
   "source": [
    "The method of bootstrapping (or bootstrap sampling) allows us to estimate the confidence\n",
    "interval for a population parameter when we only know the estimator (a function) and have\n",
    "a sample.  That is, we don’t know where to get our critical value from.  Finding bootstrapped\n",
    "confidence intervals generally goes like this:\n",
    "\n",
    "1.  Determine the sample size $n$ based on the problem statement.\n",
    "2.  Decide on a confidence level $(1-\\alpha)$.\n",
    "3.  Repeat $m$ times:\n",
    "  1. Randomly draw a sample of size $n$ with replacement from your original sample (this is called a “bootstrap sample”).\n",
    "  2. Calculate your point estimate of interest on this bootstrap sample.\n",
    "4.  Look  at  the  distribution  of  your $m$ estimates  (the  “bootstrap  distribution”).   If  it is  roughly  symmetric,  you  may  proceed. (There  is  another  method  for  asymmetric distributions, but we won’t get into that here.)\n",
    "5.  Order your $m$ bootstrap point estimates from lowest to highest.\n",
    "6.  Your $100(\\alpha/2)%$ lowest bootstrap estimate is your lower bound and your $100(1−\\alpha/2)%$ lowest  estimate  is  your  upper  bound  on  your  confidence  interval.   Thus,  if  we  have 1,000 bootstrap samples and a 95% confidence interval,  our lower bound will be the 25th lowest estimate our upper bound will be the 975th lowest estimate (25th largest estimate)."
   ]
  },
  {
   "cell_type": "markdown",
   "metadata": {},
   "source": [
    "## Why it works\n",
    "\n",
    "Bootstrapping gives us a reliable estimate of the confidence interval for a population parameter because, with an unbiased estimator:\n",
    "1.  Our sampling distribution is centered about our true population parameter value.\n",
    "2.  Our bootstrap distribution is centered about our sample’s estimate of the true population value. \n",
    "\n",
    "Thus,  with  a  symmetric  bootstrap  distribution,  we  expect  our  bootstrap  distribution  to\n",
    "have the same relationship to our one sample estimate as our sampling distribution (of the\n",
    "estimator, if we could draw lots of real samples) would have to the true population value."
   ]
  },
  {
   "cell_type": "markdown",
   "metadata": {},
   "source": [
    "## Data\n",
    "The RealEstate dataset (in excel and csv format) contains a collection of recent real estate listings in San Luis Obispo county.  The dataset contains the following fields:\n",
    "\n",
    "- MLS: Multiple listing service number for the house (unique ID).\n",
    "- Location:  city/town where the house is located. \n",
    "- Price:  the most recent listing price of the house (in dollars).\n",
    "- Bedrooms:  number of bedrooms.\n",
    "- Bathrooms:  number of bathrooms.\n",
    "- Size:  size of the house in square feet.\n",
    "- Price/SQ.ft:  price of the house per square foot.\n",
    "- Status: type of sale.  Thee types are represented in the dataset: Short Sale, Foreclosure and Regular."
   ]
  },
  {
   "cell_type": "markdown",
   "metadata": {},
   "source": [
    "## Assignment\n",
    "Focus on the `Price` variable. We are interested in the price of homes in the town of Paso Robles, which is just one of the towns included in this data set.  Return a *maximum* 2 page report to answer the following questions, providing both concise numeric summaries and commentary that is understandable for the average introductory statistics student. \n",
    "\n",
    "*Write your own function to perform the bootstrap, do not use any Python libraries that perform bootstrapping for you.* \n",
    "\n",
    "1. Draw a histogram and boxplot of the “Price” variable.  Comment on the distribution.\n",
    "\n",
    "2. Obtain  a  point  estimate  and  a  95%  CI  of  the mean from  the  sample,  using  the central limit theorem for your chosen sample size $n$.\n",
    "\n",
    "3. Find the standard error and 95% confidence interval of the estimate for mean of the  “Price”  variable  using  bootstrapping.   Try a few  different  numbers  of  iterations  for bootstrapping:  1000, 5000, 10000, and plot the obtained standard error against the number of iterations.  Compare the bootstrapped CIs with those theoretical CIs obtained using the CLT.\n",
    "\n",
    "**Hint:** Are Wald intervals (symmetric confidence intervals) from this resampled distribution valid? How can you tell?\n",
    "\n",
    "4. Median of the housing prices:  Can we still use CLT to find the 95% estimate of the median of the prices?  Find the median using a bootstrap procedure, then compare your bootstrapped value to the median of the original data."
   ]
  },
  {
   "cell_type": "code",
   "execution_count": 126,
   "metadata": {},
   "outputs": [],
   "source": [
    "import numpy as np\n",
    "import pandas as pd\n",
    "import scipy.stats as stats\n",
    "import matplotlib.pyplot as plt"
   ]
  },
  {
   "cell_type": "code",
   "execution_count": 127,
   "metadata": {},
   "outputs": [],
   "source": [
    "real_df = pd.read_csv(\"./RealEstate.csv\")"
   ]
  },
  {
   "cell_type": "code",
   "execution_count": 128,
   "metadata": {},
   "outputs": [
    {
     "data": {
      "text/html": [
       "<div>\n",
       "<style scoped>\n",
       "    .dataframe tbody tr th:only-of-type {\n",
       "        vertical-align: middle;\n",
       "    }\n",
       "\n",
       "    .dataframe tbody tr th {\n",
       "        vertical-align: top;\n",
       "    }\n",
       "\n",
       "    .dataframe thead th {\n",
       "        text-align: right;\n",
       "    }\n",
       "</style>\n",
       "<table border=\"1\" class=\"dataframe\">\n",
       "  <thead>\n",
       "    <tr style=\"text-align: right;\">\n",
       "      <th></th>\n",
       "      <th>MLS</th>\n",
       "      <th>Location</th>\n",
       "      <th>Price</th>\n",
       "      <th>Bedrooms</th>\n",
       "      <th>Bathrooms</th>\n",
       "      <th>Size</th>\n",
       "      <th>Price/SQ.Ft</th>\n",
       "      <th>Status</th>\n",
       "    </tr>\n",
       "  </thead>\n",
       "  <tbody>\n",
       "    <tr>\n",
       "      <th>0</th>\n",
       "      <td>132842</td>\n",
       "      <td>Arroyo Grande</td>\n",
       "      <td>795000.0</td>\n",
       "      <td>3</td>\n",
       "      <td>3</td>\n",
       "      <td>2371</td>\n",
       "      <td>335.30</td>\n",
       "      <td>Short Sale</td>\n",
       "    </tr>\n",
       "    <tr>\n",
       "      <th>1</th>\n",
       "      <td>134364</td>\n",
       "      <td>Paso Robles</td>\n",
       "      <td>399000.0</td>\n",
       "      <td>4</td>\n",
       "      <td>3</td>\n",
       "      <td>2818</td>\n",
       "      <td>141.59</td>\n",
       "      <td>Short Sale</td>\n",
       "    </tr>\n",
       "    <tr>\n",
       "      <th>2</th>\n",
       "      <td>135141</td>\n",
       "      <td>Paso Robles</td>\n",
       "      <td>545000.0</td>\n",
       "      <td>4</td>\n",
       "      <td>3</td>\n",
       "      <td>3032</td>\n",
       "      <td>179.75</td>\n",
       "      <td>Short Sale</td>\n",
       "    </tr>\n",
       "    <tr>\n",
       "      <th>3</th>\n",
       "      <td>135712</td>\n",
       "      <td>Morro Bay</td>\n",
       "      <td>909000.0</td>\n",
       "      <td>4</td>\n",
       "      <td>4</td>\n",
       "      <td>3540</td>\n",
       "      <td>256.78</td>\n",
       "      <td>Short Sale</td>\n",
       "    </tr>\n",
       "    <tr>\n",
       "      <th>4</th>\n",
       "      <td>136282</td>\n",
       "      <td>Santa Maria-Orcutt</td>\n",
       "      <td>109900.0</td>\n",
       "      <td>3</td>\n",
       "      <td>1</td>\n",
       "      <td>1249</td>\n",
       "      <td>87.99</td>\n",
       "      <td>Short Sale</td>\n",
       "    </tr>\n",
       "  </tbody>\n",
       "</table>\n",
       "</div>"
      ],
      "text/plain": [
       "      MLS            Location     Price  Bedrooms  Bathrooms  Size  \\\n",
       "0  132842       Arroyo Grande  795000.0         3          3  2371   \n",
       "1  134364         Paso Robles  399000.0         4          3  2818   \n",
       "2  135141         Paso Robles  545000.0         4          3  3032   \n",
       "3  135712           Morro Bay  909000.0         4          4  3540   \n",
       "4  136282  Santa Maria-Orcutt  109900.0         3          1  1249   \n",
       "\n",
       "   Price/SQ.Ft      Status  \n",
       "0       335.30  Short Sale  \n",
       "1       141.59  Short Sale  \n",
       "2       179.75  Short Sale  \n",
       "3       256.78  Short Sale  \n",
       "4        87.99  Short Sale  "
      ]
     },
     "execution_count": 128,
     "metadata": {},
     "output_type": "execute_result"
    }
   ],
   "source": [
    "real_df.head()"
   ]
  },
  {
   "cell_type": "code",
   "execution_count": 129,
   "metadata": {},
   "outputs": [
    {
     "data": {
      "image/png": "[encoded data removed]",
      "text/plain": [
       "<Figure size 432x288 with 1 Axes>"
      ]
     },
     "metadata": {
      "needs_background": "light"
     },
     "output_type": "display_data"
    }
   ],
   "source": [
    "subpop = real_df[real_df.Location == \"Paso Robles\"]\n",
    "plt.hist(subpop.Price, bins = 15)\n",
    "pass"
   ]
  },
  {
   "cell_type": "code",
   "execution_count": 130,
   "metadata": {},
   "outputs": [
    {
     "data": {
      "text/html": [
       "<div>\n",
       "<style scoped>\n",
       "    .dataframe tbody tr th:only-of-type {\n",
       "        vertical-align: middle;\n",
       "    }\n",
       "\n",
       "    .dataframe tbody tr th {\n",
       "        vertical-align: top;\n",
       "    }\n",
       "\n",
       "    .dataframe thead th {\n",
       "        text-align: right;\n",
       "    }\n",
       "</style>\n",
       "<table border=\"1\" class=\"dataframe\">\n",
       "  <thead>\n",
       "    <tr style=\"text-align: right;\">\n",
       "      <th></th>\n",
       "      <th>Price</th>\n",
       "    </tr>\n",
       "  </thead>\n",
       "  <tbody>\n",
       "    <tr>\n",
       "      <th>count</th>\n",
       "      <td>85.000000</td>\n",
       "    </tr>\n",
       "    <tr>\n",
       "      <th>mean</th>\n",
       "      <td>334280.223529</td>\n",
       "    </tr>\n",
       "    <tr>\n",
       "      <th>std</th>\n",
       "      <td>113163.278283</td>\n",
       "    </tr>\n",
       "    <tr>\n",
       "      <th>min</th>\n",
       "      <td>89000.000000</td>\n",
       "    </tr>\n",
       "    <tr>\n",
       "      <th>25%</th>\n",
       "      <td>250000.000000</td>\n",
       "    </tr>\n",
       "    <tr>\n",
       "      <th>50%</th>\n",
       "      <td>319900.000000</td>\n",
       "    </tr>\n",
       "    <tr>\n",
       "      <th>75%</th>\n",
       "      <td>399000.000000</td>\n",
       "    </tr>\n",
       "    <tr>\n",
       "      <th>max</th>\n",
       "      <td>695000.000000</td>\n",
       "    </tr>\n",
       "  </tbody>\n",
       "</table>\n",
       "</div>"
      ],
      "text/plain": [
       "               Price\n",
       "count      85.000000\n",
       "mean   334280.223529\n",
       "std    113163.278283\n",
       "min     89000.000000\n",
       "25%    250000.000000\n",
       "50%    319900.000000\n",
       "75%    399000.000000\n",
       "max    695000.000000"
      ]
     },
     "execution_count": 130,
     "metadata": {},
     "output_type": "execute_result"
    }
   ],
   "source": [
    "pd.DataFrame(subpop[\"Price\"].describe())"
   ]
  },
  {
   "cell_type": "code",
   "execution_count": 131,
   "metadata": {},
   "outputs": [],
   "source": [
    "def bootstrap(data, var, n_sample, n_iter, conf):\n",
    "    \"\"\"\n",
    "    This is a function to find boostrapped confidence intervals and \n",
    "    point estimates from a random sample.\n",
    "    \n",
    "    Inputs:\n",
    "    data is a Pandas data frame object\n",
    "    var is a string argument, this is the variable of interest\n",
    "    n_sample is the sample size drawn with replacement at each iteration\n",
    "    n_iter is an integer, the number of iterations of \n",
    "        resampling w/ replacement to perform\n",
    "    conf is the confidence level (e.g. 0.95 for a 95% CI)\n",
    "    \n",
    "    Outputs:\n",
    "    Bootstrapped estimates of the mean, median, SE, (1-conf)/2 %ile, (1+conf)/2 %ile\n",
    "    An array of size n_iter of the elements of the resampled means\n",
    "    \"\"\"\n",
    "    \n",
    "    resampled = np.zeros((n_iter, 2)) # pre-allocate\n",
    "    \n",
    "    # perform resampling\n",
    "    for i in range(n_iter):\n",
    "        # sample with replacement from data frame, return only sample mean of var of interest\n",
    "        sample = data.sample(n = n_sample, replace = True)[var]\n",
    "        resampled[i,0] = np.mean(sample)\n",
    "        resampled[i,1] = np.median(sample)\n",
    "    \n",
    "    # calculate summary stats based upon resampled values\n",
    "    results = pd.DataFrame(\n",
    "        data = np.array([\n",
    "         np.mean(resampled[:,0]),\n",
    "         np.std(resampled[:,0]),\n",
    "         np.quantile(resampled[:,1], q = 0.5), # est of median, could also calc CI for median\n",
    "         np.quantile(resampled[:,0], q = (1-conf)/2), # CI for mean - lower\n",
    "         np.quantile(resampled[:,0], q = (1+conf)/2)  # CI for mean - upper\n",
    "        ]),\n",
    "        index = [\"Mean\", \"SE\", \"Med\", \"Lower_95CI\", \"Upper_95CI\"],\n",
    "        columns = [var]\n",
    "    )\n",
    "    \n",
    "    return (results.round(2), resampled)\n",
    "    "
   ]
  },
  {
   "cell_type": "code",
   "execution_count": 132,
   "metadata": {},
   "outputs": [],
   "source": [
    "np.random.seed(516) # set random seed for reproducibility\n",
    "bs1 = bootstrap(subpop, \"Price\", subpop.shape[0], 1000, 0.95)"
   ]
  },
  {
   "cell_type": "code",
   "execution_count": 133,
   "metadata": {},
   "outputs": [
    {
     "data": {
      "text/html": [
       "<div>\n",
       "<style scoped>\n",
       "    .dataframe tbody tr th:only-of-type {\n",
       "        vertical-align: middle;\n",
       "    }\n",
       "\n",
       "    .dataframe tbody tr th {\n",
       "        vertical-align: top;\n",
       "    }\n",
       "\n",
       "    .dataframe thead th {\n",
       "        text-align: right;\n",
       "    }\n",
       "</style>\n",
       "<table border=\"1\" class=\"dataframe\">\n",
       "  <thead>\n",
       "    <tr style=\"text-align: right;\">\n",
       "      <th></th>\n",
       "      <th>Price</th>\n",
       "    </tr>\n",
       "  </thead>\n",
       "  <tbody>\n",
       "    <tr>\n",
       "      <th>Mean</th>\n",
       "      <td>333730.57</td>\n",
       "    </tr>\n",
       "    <tr>\n",
       "      <th>SE</th>\n",
       "      <td>12270.14</td>\n",
       "    </tr>\n",
       "    <tr>\n",
       "      <th>Med</th>\n",
       "      <td>319900.00</td>\n",
       "    </tr>\n",
       "    <tr>\n",
       "      <th>Lower_95CI</th>\n",
       "      <td>309851.99</td>\n",
       "    </tr>\n",
       "    <tr>\n",
       "      <th>Upper_95CI</th>\n",
       "      <td>357341.72</td>\n",
       "    </tr>\n",
       "  </tbody>\n",
       "</table>\n",
       "</div>"
      ],
      "text/plain": [
       "                Price\n",
       "Mean        333730.57\n",
       "SE           12270.14\n",
       "Med         319900.00\n",
       "Lower_95CI  309851.99\n",
       "Upper_95CI  357341.72"
      ]
     },
     "execution_count": 133,
     "metadata": {},
     "output_type": "execute_result"
    }
   ],
   "source": [
    "bs1[0]"
   ]
  },
  {
   "cell_type": "code",
   "execution_count": 139,
   "metadata": {},
   "outputs": [
    {
     "data": {
      "image/png": "[encoded data removed]",
      "text/plain": [
       "<Figure size 432x288 with 1 Axes>"
      ]
     },
     "metadata": {
      "needs_background": "light"
     },
     "output_type": "display_data"
    }
   ],
   "source": [
    "plt.hist(bs1[1][:,0], bins=30)\n",
    "plt.title(\"Bootstrapped Distribution of Mean Price\")\n",
    "plt.xlabel(\"Price (USD)\")\n",
    "plt.ylabel(\"Frequency\")\n",
    "pass"
   ]
  },
  {
   "cell_type": "code",
   "execution_count": 135,
   "metadata": {},
   "outputs": [
    {
     "data": {
      "text/plain": [
       "12201.865614669066"
      ]
     },
     "execution_count": 135,
     "metadata": {},
     "output_type": "execute_result"
    }
   ],
   "source": [
    "np.std(subpop[\"Price\"])/np.sqrt(subpop.shape[0]) # theoretical SE from original sample"
   ]
  },
  {
   "cell_type": "markdown",
   "metadata": {},
   "source": [
    "Grading:\n",
    "- Students should include a summary table that includes bootstrapped estimates for each of the 3 varied n_iter inputs, as well as the theoretical values of each statistic under the CLT.\n",
    "- Students should demonstrate that bootstrapped confidence intervals are valid here because the output is symmetric.\n",
    "- Students should comment on the relationship between the theoretical and bootstrapped values, as well as any challenges to the validity of this procedure. "
   ]
  },
  {
   "cell_type": "code",
   "execution_count": null,
   "metadata": {},
   "outputs": [],
   "source": []
  }
 ],
 "metadata": {
  "kernelspec": {
   "display_name": "Python 3",
   "language": "python",
   "name": "python3"
  },
  "language_info": {
   "codemirror_mode": {
    "name": "ipython",
    "version": 3
   },
   "file_extension": ".py",
   "mimetype": "text/x-python",
   "name": "python",
   "nbconvert_exporter": "python",
   "pygments_lexer": "ipython3",
   "version": "3.7.3"
  }
 },
 "nbformat": 4,
 "nbformat_minor": 2
}
