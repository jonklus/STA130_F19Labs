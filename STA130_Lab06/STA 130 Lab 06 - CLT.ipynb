{
 "cells": [
  {
   "cell_type": "markdown",
   "metadata": {},
   "source": [
    "# STA 130 Lab 6 - Central Limit Theorem\n",
    "*Your Name Here*"
   ]
  },
  {
   "cell_type": "markdown",
   "metadata": {},
   "source": [
    "## Best practices for numerical simulations (and programming in general)\n",
    "\n",
    "We have been doing a lot of Monte Carlo simulations, so we're going to take a few minutes to talk about code style and writing efficient code for numerical simualations. Some of the qualities that we strive for include:\n",
    "\n",
    "- Reproducible code\n",
    "- Readable code\n",
    "- Memory-efficient code\n",
    "- Functionalized/modular code\n",
    "\n",
    "Take the simulation of the game of lucky dice, for example:"
   ]
  },
  {
   "cell_type": "markdown",
   "metadata": {},
   "source": [
    "We should probably functionalize this if we want to do repeated sampling (e.g. to find the sampling distribution of the parameter of interest. We'll functionalize and take 1,000 samples of simulations of size 100, then calculate the empirical mean and variance. "
   ]
  },
  {
   "cell_type": "markdown",
   "metadata": {},
   "source": [
    "## Brief background\n",
    "\n",
    "Let $X_1,...,X_n$ be a random sample from a distribution with mean $\\mu$ and standard deviation $\\sigma$. Then for sufficiently large $n$, commonly defined as $(n > 30)$, $\\bar{X}$ is normally distributed with mean $\\mu$ and standard deviation $\\frac{\\sigma}{\\sqrt{n}}$:\n",
    "\n",
    "$$\n",
    "\\bar{X} \\sim N(\\mu, \\frac{\\sigma}{\\sqrt{n}})\n",
    "$$\n",
    "\n",
    "Equivalently, in the case of the standard normal:\n",
    "\n",
    "$$\n",
    "\\frac{\\bar{X} - \\mu}{\\frac{\\sigma}{\\sqrt{n}}} \\sim N(0,1)\n",
    "$$"
   ]
  },
  {
   "cell_type": "markdown",
   "metadata": {},
   "source": [
    "## The scenario\n",
    "\n",
    "A lithium ion battery (used in laptops, cell phones, etc.) manufacturer is evaluating the life of its batteries, which are designed to supply power for a maximum of 5 hours. Suppose that these battery lifetimes vary according to the continuous uniform distribution between 0 and 5 hours. "
   ]
  },
  {
   "cell_type": "markdown",
   "metadata": {},
   "source": [
    "1. What should the population distribution of battery life look like? Describe and/or sketch this, including shape and appropriate upper and lower bounds."
   ]
  },
  {
   "cell_type": "code",
   "execution_count": null,
   "metadata": {},
   "outputs": [],
   "source": []
  },
  {
   "cell_type": "markdown",
   "metadata": {},
   "source": [
    "2. Simulate the life of 1000 batteries using Monte Carlo methods. Plot the results of this simulation using a histogram with appropriately labeled axes."
   ]
  },
  {
   "cell_type": "code",
   "execution_count": null,
   "metadata": {},
   "outputs": [],
   "source": []
  },
  {
   "cell_type": "markdown",
   "metadata": {},
   "source": [
    "3. Do the results of the simulation agree with your initial description of the population distribution? Provide a likely explanation for any discrepancies."
   ]
  },
  {
   "cell_type": "markdown",
   "metadata": {},
   "source": []
  },
  {
   "cell_type": "markdown",
   "metadata": {},
   "source": [
    "4. Simulate 1000 samples of size 2. Find the mean and variance for each sample. Then plot the histogram of your 1000 sample means. Report the theoretical parameter values (expected value and variance) for this sampling distribution and compare them to the simulated values.\n",
    "\n",
    "**Hint:** Write a function to perform this sampling, then use the same function for questions 4-5"
   ]
  },
  {
   "cell_type": "code",
   "execution_count": null,
   "metadata": {},
   "outputs": [],
   "source": []
  },
  {
   "cell_type": "markdown",
   "metadata": {},
   "source": [
    "5. Repeat question 4 with sample sizes of 25, 50, and 100. What distribution are our sample statistics beginning to resemble? "
   ]
  },
  {
   "cell_type": "code",
   "execution_count": null,
   "metadata": {},
   "outputs": [],
   "source": []
  }
 ],
 "metadata": {
  "kernelspec": {
   "display_name": "Python 3",
   "language": "python",
   "name": "python3"
  },
  "language_info": {
   "codemirror_mode": {
    "name": "ipython",
    "version": 3
   },
   "file_extension": ".py",
   "mimetype": "text/x-python",
   "name": "python",
   "nbconvert_exporter": "python",
   "pygments_lexer": "ipython3",
   "version": "3.7.3"
  }
 },
 "nbformat": 4,
 "nbformat_minor": 2
}
