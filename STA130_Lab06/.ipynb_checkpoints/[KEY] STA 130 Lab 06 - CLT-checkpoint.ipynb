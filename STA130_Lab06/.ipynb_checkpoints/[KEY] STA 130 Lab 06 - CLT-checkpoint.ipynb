{
 "cells": [
  {
   "cell_type": "markdown",
   "metadata": {},
   "source": [
    "# STA 130 Lab 6 - Central Limit Theorem\n",
    "*Your Name Here*"
   ]
  },
  {
   "cell_type": "markdown",
   "metadata": {},
   "source": [
    "## Best practices for numerical simulations (and programming in general)\n",
    "\n",
    "We have been doing a lot of Monte Carlo simulations, so we're going to take a few minutes to talk about code style and writing efficient code for numerical simualations. Some of the qualities that we strive for include:\n",
    "\n",
    "- Reproducible code\n",
    "- Readable code\n",
    "- Memory-efficient code\n",
    "- Functionalized/modular code\n",
    "\n",
    "Take the simulation of the game of lucky dice, for example:"
   ]
  },
  {
   "cell_type": "code",
   "execution_count": 70,
   "metadata": {},
   "outputs": [],
   "source": [
    "import numpy as np\n",
    "import scipy\n",
    "import scipy.stats as stats"
   ]
  },
  {
   "cell_type": "code",
   "execution_count": 71,
   "metadata": {},
   "outputs": [],
   "source": [
    "def roll_dice(n_dice):\n",
    "    \"\"\"\n",
    "    Rolls n dice using the numpy randint generator.\n",
    "    \"\"\"\n",
    "    \n",
    "    roll_n = np.random.randint(low = 1, high = 7, size = n_dice)\n",
    "    \n",
    "    return roll_n"
   ]
  },
  {
   "cell_type": "code",
   "execution_count": 72,
   "metadata": {},
   "outputs": [],
   "source": [
    "np.random.seed(516) # set random seed\n",
    "n_sim = 100 # number of iterations\n",
    "n_dice = 2\n",
    "\n",
    "# pre-allocate matrix to collect simulation results\n",
    "results = np.zeros((n_sim,2))\n",
    "\n",
    "# use dictionary structure for payout\n",
    "payout = {0:-1, 1:0, 2:1, 3:2}\n",
    "\n",
    "for i in range(n_sim):\n",
    "\n",
    "    # choose a number\n",
    "    choice = np.random.randint(low = 1, high = 7, size = 1) \n",
    "    \n",
    "    # roll n dice\n",
    "    roll = roll_dice(n_dice)\n",
    "    \n",
    "    # check how many dice equal to choice\n",
    "    num_matches = np.sum(roll == choice)\n",
    "    \n",
    "    # lookup payout and save results\n",
    "    results[i,:] = np.array([num_matches, payout[num_matches]])"
   ]
  },
  {
   "cell_type": "code",
   "execution_count": 73,
   "metadata": {},
   "outputs": [
    {
     "data": {
      "text/plain": [
       "array([ 0.37, -0.63])"
      ]
     },
     "execution_count": 73,
     "metadata": {},
     "output_type": "execute_result"
    }
   ],
   "source": [
    "np.mean(results, axis = 0)"
   ]
  },
  {
   "cell_type": "code",
   "execution_count": 74,
   "metadata": {},
   "outputs": [
    {
     "data": {
      "text/plain": [
       "array([0.3131, 0.3131])"
      ]
     },
     "execution_count": 74,
     "metadata": {},
     "output_type": "execute_result"
    }
   ],
   "source": [
    "np.var(results, axis = 0)"
   ]
  },
  {
   "cell_type": "markdown",
   "metadata": {},
   "source": [
    "We should probably functionalize this if we want to do repeated sampling (e.g. to find the sampling distribution of the parameter of interest. We'll functionalize and take 1,000 samples of simulations of size 100, then calculate the empirical mean and variance. "
   ]
  },
  {
   "cell_type": "code",
   "execution_count": 75,
   "metadata": {},
   "outputs": [],
   "source": [
    "def lucky_dice(n_sim):\n",
    "    \"\"\"\n",
    "    This function simulates the game of lucky dice n_sim times for 2 dice. \n",
    "    It returns the \n",
    "    \"\"\"\n",
    "    \n",
    "    n_dice = 2\n",
    "\n",
    "    # pre-allocate matrix to collect simulation results\n",
    "    results = np.zeros((n_sim,2))\n",
    "\n",
    "    # use dictionary structure for payout\n",
    "    payout = {0:-1, 1:0, 2:1, 3:2}\n",
    "\n",
    "    for i in range(n_sim):\n",
    "\n",
    "        # choose a number\n",
    "        choice = np.random.randint(low = 1, high = 7, size = 1) \n",
    "\n",
    "        # roll n dice\n",
    "        roll = roll_dice(n_dice)\n",
    "\n",
    "        # check how many dice equal to choice\n",
    "        num_matches = np.sum(roll == choice)\n",
    "\n",
    "        # lookup payout and save results\n",
    "        results[i,:] = np.array([num_matches, payout[num_matches]])\n",
    "        \n",
    "    return np.mean(results, axis = 0)"
   ]
  },
  {
   "cell_type": "code",
   "execution_count": 76,
   "metadata": {},
   "outputs": [
    {
     "name": "stdout",
     "output_type": "stream",
     "text": [
      "5.94 s ± 26.1 ms per loop (mean ± std. dev. of 5 runs, 3 loops each)\n"
     ]
    }
   ],
   "source": [
    "%%timeit -r5 -n3 \n",
    "n_sim = 1000\n",
    "results = np.zeros((n_sim, 2))\n",
    "for i in range(n_sim):\n",
    "    results[i, :] = lucky_dice(100)"
   ]
  },
  {
   "cell_type": "code",
   "execution_count": 77,
   "metadata": {},
   "outputs": [
    {
     "data": {
      "text/plain": [
       "array([ 0.37, -0.63])"
      ]
     },
     "execution_count": 77,
     "metadata": {},
     "output_type": "execute_result"
    }
   ],
   "source": [
    "np.mean(results, axis = 0)"
   ]
  },
  {
   "cell_type": "markdown",
   "metadata": {},
   "source": [
    "What if we did this using append?"
   ]
  },
  {
   "cell_type": "code",
   "execution_count": 78,
   "metadata": {},
   "outputs": [],
   "source": [
    "def lucky_dice_append(n_sim):\n",
    "    \"\"\"\n",
    "    This function simulates the game of lucky dice n_sim times for 2 dice. \n",
    "    It returns the \n",
    "    \"\"\"\n",
    "    \n",
    "    n_dice = 2\n",
    "\n",
    "    # collect simulation results\n",
    "    results = []\n",
    "\n",
    "    # use dictionary structure for payout\n",
    "    payout = {0:-1, 1:0, 2:1, 3:2}\n",
    "\n",
    "    for i in range(n_sim):\n",
    "\n",
    "        # choose a number\n",
    "        choice = np.random.randint(low = 1, high = 7, size = 1) \n",
    "\n",
    "        # roll n dice\n",
    "        roll = roll_dice(n_dice)\n",
    "\n",
    "        # check how many dice equal to choice\n",
    "        num_matches = np.sum(roll == choice)\n",
    "\n",
    "        # lookup payout and save results\n",
    "        results.append((num_matches, payout[num_matches]))\n",
    "        \n",
    "    return np.mean(results, axis = 0)"
   ]
  },
  {
   "cell_type": "code",
   "execution_count": 79,
   "metadata": {},
   "outputs": [
    {
     "name": "stdout",
     "output_type": "stream",
     "text": [
      "5.41 s ± 10 ms per loop (mean ± std. dev. of 5 runs, 3 loops each)\n"
     ]
    }
   ],
   "source": [
    "%%timeit -r5 -n3 \n",
    "n_sim = 1000\n",
    "results = []\n",
    "for i in range(n_sim):\n",
    "    results.append(lucky_dice_append(100))"
   ]
  },
  {
   "cell_type": "code",
   "execution_count": null,
   "metadata": {},
   "outputs": [],
   "source": [
    "\n"
   ]
  },
  {
   "cell_type": "markdown",
   "metadata": {},
   "source": [
    "## Brief background\n",
    "\n",
    "Let $X_1,...,X_n$ be a random sample from a distribution with mean $\\mu$ and standard deviation $\\sigma$. Then for sufficiently large $n$, commonly defined as $(n > 30)$, $\\bar{X}$ is normally distributed with mean $\\mu$ and standard deviation $\\frac{\\sigma}{\\sqrt{n}}$:\n",
    "\n",
    "$$\n",
    "\\bar{X} \\sim N(\\mu, \\frac{\\sigma}{\\sqrt{n}})\n",
    "$$\n",
    "\n",
    "Equivalently, in the case of the standard normal:\n",
    "\n",
    "$$\n",
    "\\frac{\\bar{X} - \\mu}{\\frac{\\sigma}{\\sqrt{n}}} \\sim N(0,1)\n",
    "$$"
   ]
  },
  {
   "cell_type": "markdown",
   "metadata": {},
   "source": [
    "## The scenario\n",
    "\n",
    "A lithium ion battery (used in laptops, cell phones, etc.) manufacturer is evaluating the life of its batteries, which are designed to supply power for a maximum of 5 hours. Suppose that these battery lifetimes vary according to the continuous uniform distribution between 0 and 5 hours. "
   ]
  },
  {
   "cell_type": "markdown",
   "metadata": {},
   "source": [
    "1. What should the population distribution of battery life look like? Describe and/or sketch this, including shape and appropriate upper and lower bounds."
   ]
  },
  {
   "cell_type": "code",
   "execution_count": null,
   "metadata": {},
   "outputs": [],
   "source": []
  },
  {
   "cell_type": "markdown",
   "metadata": {},
   "source": [
    "2. Simulate the life of 1000 batteries using Monte Carlo methods. Plot the results of this simulation using a histogram with appropriately labeled axes."
   ]
  },
  {
   "cell_type": "code",
   "execution_count": 80,
   "metadata": {},
   "outputs": [
    {
     "data": {
      "text/plain": [
       "array([3.59768365, 1.93442968, 0.36791284, 4.92404006, 1.17715985,\n",
       "       1.68689007, 3.15852903, 0.28210272, 1.71697489, 3.11913726])"
      ]
     },
     "execution_count": 80,
     "metadata": {},
     "output_type": "execute_result"
    }
   ],
   "source": [
    "np.random.uniform(low = 0, high = 5, size = 10)"
   ]
  },
  {
   "cell_type": "markdown",
   "metadata": {},
   "source": [
    "3. Do the results of the simulation agree with your initial description of the population distribution? Provide a likely explanation for any discrepancies."
   ]
  },
  {
   "cell_type": "markdown",
   "metadata": {},
   "source": []
  },
  {
   "cell_type": "markdown",
   "metadata": {},
   "source": [
    "4. Simulate 1000 samples of size 2. Find the mean and variance for each sample. Then plot the histogram of your 1000 sample means. Report the theoretical parameter values (expected value and variance) for this sampling distribution and compare them to the simulated values.\n",
    "\n",
    "**Hint:** Write a function to perform this sampling, then use the same function for questions 4-5"
   ]
  },
  {
   "cell_type": "code",
   "execution_count": null,
   "metadata": {},
   "outputs": [],
   "source": []
  },
  {
   "cell_type": "markdown",
   "metadata": {},
   "source": [
    "5. Repeat question 4 with sample sizes of 25, 50, and 100. What distribution are our sample statistics beginning to resemble? "
   ]
  },
  {
   "cell_type": "code",
   "execution_count": null,
   "metadata": {},
   "outputs": [],
   "source": []
  }
 ],
 "metadata": {
  "kernelspec": {
   "display_name": "Python 3",
   "language": "python",
   "name": "python3"
  },
  "language_info": {
   "codemirror_mode": {
    "name": "ipython",
    "version": 3
   },
   "file_extension": ".py",
   "mimetype": "text/x-python",
   "name": "python",
   "nbconvert_exporter": "python",
   "pygments_lexer": "ipython3",
   "version": "3.7.3"
  }
 },
 "nbformat": 4,
 "nbformat_minor": 2
}
