{
 "cells": [
  {
   "cell_type": "markdown",
   "metadata": {},
   "source": [
    "# Lab 5 - Probability Plots\n",
    "*Your Name Here*"
   ]
  },
  {
   "cell_type": "markdown",
   "metadata": {},
   "source": [
    "## Electromyographic signals\n",
    "\n",
    "Electromyography (EMG) records the electrical potential of muscle activity, and, as such,\n",
    "is  a  useful  tool  in  developing  neurologically-activated  devices,  such  as  prosthetics.   One\n",
    "complication  in  making  such  devices  practical  is  the  variability  in  EMG  signal  intensity,\n",
    "even for signals triggering the same action in the same muscle.  A couple cutting-edge papers\n",
    "look at this variability:\n",
    "\n",
    "- Rupasov VI, Lebedev MA, Erlichman JS, Linderman M (2012). *Neuronal Variability during Handwriting:  Lognormal Distribution*.  PLoS ONE 7(4):  e34759. doi:10.1371/journal.pone.0034759\n",
    "\n",
    "- Rupasov  VI,  Lebedev  MA,  Erlichman  JS,  Lee  SL,  Leiter  JC,  Linderman  M  (2012). *Time-Dependent Statistical and Correlation Properties of Neural Signals during Hand- writing*.  PLoS ONE 7(9):  e43945.  doi:10.1371/journal.pone.0043945\n",
    "\n",
    "**Read the first paper** (available  on  Sakai,  or  searchable  online). The  second  paper,  in\n",
    "particular the “Methods” section, may help clarify some procedures in the first paper, and\n",
    "it also makes use of some other interesting statistics that we’ve talked about already.\n",
    "Note from the author affiliations in these papers that this is Duke research! You will be using the very same data from this first paper."
   ]
  },
  {
   "cell_type": "code",
   "execution_count": 1,
   "metadata": {
    "collapsed": true
   },
   "outputs": [],
   "source": [
    "import numpy as np\n",
    "import pandas as pd\n",
    "import seaborn as sns\n",
    "import matplotlib.pyplot as plt"
   ]
  },
  {
   "cell_type": "markdown",
   "metadata": {},
   "source": [
    "The file electro_data.csv contains a single vector (length of 412) of dimensionless EMG energies from time interval 2, channel 1 in the first paper. This corresponds to $E(2,1,j) (j= 1,2,...,412)$ of Eq. 3.  Your assignment is to investigate two alternative methods for making probability plots."
   ]
  },
  {
   "cell_type": "code",
   "execution_count": 30,
   "metadata": {},
   "outputs": [],
   "source": [
    "electro = pd.read_csv(\"./electro_data1.csv\")"
   ]
  },
  {
   "cell_type": "code",
   "execution_count": 61,
   "metadata": {},
   "outputs": [
    {
     "data": {
      "text/plain": [
       "(412, 1)"
      ]
     },
     "execution_count": 61,
     "metadata": {},
     "output_type": "execute_result"
    }
   ],
   "source": [
    "electro.shape"
   ]
  },
  {
   "cell_type": "code",
   "execution_count": 62,
   "metadata": {},
   "outputs": [
    {
     "data": {
      "text/html": [
       "<div>\n",
       "<style scoped>\n",
       "    .dataframe tbody tr th:only-of-type {\n",
       "        vertical-align: middle;\n",
       "    }\n",
       "\n",
       "    .dataframe tbody tr th {\n",
       "        vertical-align: top;\n",
       "    }\n",
       "\n",
       "    .dataframe thead th {\n",
       "        text-align: right;\n",
       "    }\n",
       "</style>\n",
       "<table border=\"1\" class=\"dataframe\">\n",
       "  <thead>\n",
       "    <tr style=\"text-align: right;\">\n",
       "      <th></th>\n",
       "      <th>EMG_Data</th>\n",
       "    </tr>\n",
       "  </thead>\n",
       "  <tbody>\n",
       "    <tr>\n",
       "      <th>0</th>\n",
       "      <td>1.09790</td>\n",
       "    </tr>\n",
       "    <tr>\n",
       "      <th>1</th>\n",
       "      <td>0.24520</td>\n",
       "    </tr>\n",
       "    <tr>\n",
       "      <th>2</th>\n",
       "      <td>0.95856</td>\n",
       "    </tr>\n",
       "    <tr>\n",
       "      <th>3</th>\n",
       "      <td>0.82484</td>\n",
       "    </tr>\n",
       "    <tr>\n",
       "      <th>4</th>\n",
       "      <td>0.64312</td>\n",
       "    </tr>\n",
       "  </tbody>\n",
       "</table>\n",
       "</div>"
      ],
      "text/plain": [
       "   EMG_Data\n",
       "0   1.09790\n",
       "1   0.24520\n",
       "2   0.95856\n",
       "3   0.82484\n",
       "4   0.64312"
      ]
     },
     "execution_count": 62,
     "metadata": {},
     "output_type": "execute_result"
    }
   ],
   "source": [
    "electro.head(5)"
   ]
  },
  {
   "cell_type": "markdown",
   "metadata": {},
   "source": [
    "Reminder: A random variable $X$ has a lognormal distribution with parameters $\\mu, \\theta^2$ if: \n",
    "$$\n",
    "Y = ln(X) \\sim N(\\mu, \\sigma^2)\n",
    "$$"
   ]
  },
  {
   "cell_type": "markdown",
   "metadata": {},
   "source": [
    "## Recreate Figure 2a from the first paper above.\n",
    "This  figure  makes  a  log-normal  probability  plot  (a  probability  plot  presuming  a  log-normal distribution of the data), and then overlays a line for the normal distribution. The documentation for the Scientific Python (SciPy) function probplot (https://docs.scipy.org/doc/scipy/reference/generated/scipy.stats.probplot.html) will help with plotting the data versus theoretical quantiles."
   ]
  },
  {
   "cell_type": "code",
   "execution_count": 59,
   "metadata": {},
   "outputs": [],
   "source": [
    "from scipy import log\n",
    "import scipy.stats as stats"
   ]
  },
  {
   "cell_type": "code",
   "execution_count": 63,
   "metadata": {},
   "outputs": [
    {
     "data": {
      "image/png": "[encoded data removed]",
      "text/plain": [
       "<Figure size 432x288 with 1 Axes>"
      ]
     },
     "metadata": {
      "needs_background": "light"
     },
     "output_type": "display_data"
    }
   ],
   "source": [
    "# using level values\n",
    "stat.probplot(x = electro.iloc[:,0], plot = plt)\n",
    "pass"
   ]
  },
  {
   "cell_type": "code",
   "execution_count": null,
   "metadata": {},
   "outputs": [],
   "source": [
    "# recreate figure 2a\n"
   ]
  },
  {
   "cell_type": "markdown",
   "metadata": {},
   "source": [
    "Pay special  attention  to  Equation  6  in  the  paper,  as  this  tells  you  how  to  find  the lognormal parameters to fit the lognormal curve to your data.\n",
    "Attach your version of Figure 2a to your lab report, as well as your code for creating it.\n",
    "\n",
    "In a paragraph or two, discuss the following:\n",
    "1. What do the points on your plot represent?\n",
    "2. What do each of the lines on your plot represent?\n",
    "3. Which distribution appears to describe the EMG data better, the lognormal distribution or the normal distribution? Why?"
   ]
  },
  {
   "cell_type": "markdown",
   "metadata": {},
   "source": []
  },
  {
   "cell_type": "markdown",
   "metadata": {},
   "source": [
    "## Create a probability plot for the natural log (ln) of the data\n",
    "\n",
    "Create the plot, then answer the following questions: \n",
    "\n",
    "1. Suppose we looked at the natural log of the EMG data.  What distribution should the log of the data follow?  Why?\n",
    "2. Make a new probability plot that provides evidence for what you’ve answered in the previous question.  Attach this figure and its code.  Did you confirm your answer? If so, how?  If not, why not?"
   ]
  },
  {
   "cell_type": "code",
   "execution_count": 64,
   "metadata": {},
   "outputs": [
    {
     "data": {
      "image/png": "[encoded data removed]",
      "text/plain": [
       "<Figure size 432x288 with 1 Axes>"
      ]
     },
     "metadata": {
      "needs_background": "light"
     },
     "output_type": "display_data"
    }
   ],
   "source": [
    "# using log-tranformed values\n",
    "stat.probplot(x = log(electro.iloc[:,0]), plot = plt)\n",
    "pass"
   ]
  },
  {
   "cell_type": "code",
   "execution_count": null,
   "metadata": {},
   "outputs": [],
   "source": []
  },
  {
   "cell_type": "markdown",
   "metadata": {},
   "source": []
  }
 ],
 "metadata": {
  "kernelspec": {
   "display_name": "Python 3",
   "language": "python",
   "name": "python3"
  },
  "language_info": {
   "codemirror_mode": {
    "name": "ipython",
    "version": 3
   },
   "file_extension": ".py",
   "mimetype": "text/x-python",
   "name": "python",
   "nbconvert_exporter": "python",
   "pygments_lexer": "ipython3",
   "version": "3.7.3"
  }
 },
 "nbformat": 4,
 "nbformat_minor": 2
}
