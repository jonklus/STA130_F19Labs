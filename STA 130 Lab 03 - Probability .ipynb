{
 "cells": [
  {
   "cell_type": "markdown",
   "metadata": {},
   "source": [
    "# STA 130 Lab 3"
   ]
  },
  {
   "cell_type": "markdown",
   "metadata": {},
   "source": [
    "## The Game of Craps\n",
    "\n",
    "The game of craps is played with two dice.  On the first roll:\n",
    "- You lose if you get a total of 2, 3, or 12\n",
    "- You win if you get a total of 7 or 11\n",
    "- Otherwise, the total becomes your “point”, and you continue to roll the dice\n",
    "\n",
    "On your subsequent rolls:\n",
    "- You win if you roll a total that matches your point before you roll a 7\n",
    "- Otherwise, you lose by rolling a 7 before you match your point\n",
    "\n",
    "## The Experiment\n",
    "Form groups of two (or three, if needed), and play craps (you can use https://www.random.org/dice\n",
    "to simulate random dice rolling).  Take turns being the “shooter” (dice roller/player), while the other person\n",
    "is the house/casino that keeps the player honest.  Make sure each person plays 10 times, and record whether\n",
    "they win or lose.  Based on your record, what is your probability of winning at craps?\n",
    "Once you’re done, write your results on the board.  When everybody is finished, you should use the data\n",
    "collected to make a more informed estimate for the probability of winning."
   ]
  },
  {
   "cell_type": "code",
   "execution_count": null,
   "metadata": {
    "collapsed": true
   },
   "outputs": [],
   "source": []
  },
  {
   "cell_type": "markdown",
   "metadata": {},
   "source": [
    "## The Theory\n",
    "\n",
    "Next, work with your partner(s) to calculate the theoretical probability of winning at craps.  The following\n",
    "will help you arrive at a solution:"
   ]
  },
  {
   "cell_type": "code",
   "execution_count": null,
   "metadata": {
    "collapsed": true
   },
   "outputs": [],
   "source": []
  }
 ],
 "metadata": {
  "kernelspec": {
   "display_name": "Python 3",
   "language": "python",
   "name": "python3"
  },
  "language_info": {
   "codemirror_mode": {
    "name": "ipython",
    "version": 3
   },
   "file_extension": ".py",
   "mimetype": "text/x-python",
   "name": "python",
   "nbconvert_exporter": "python",
   "pygments_lexer": "ipython3",
   "version": "3.5.2"
  }
 },
 "nbformat": 4,
 "nbformat_minor": 2
}
