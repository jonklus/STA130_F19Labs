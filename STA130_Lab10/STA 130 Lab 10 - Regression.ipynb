{
 "cells": [
  {
   "cell_type": "markdown",
   "metadata": {},
   "source": [
    "# STA 130 Lab 10: Multiple Regression\n",
    "*Your Name Here*"
   ]
  },
  {
   "cell_type": "markdown",
   "metadata": {},
   "source": [
    "# Instructions\n",
    "\n",
    "Work in teams of 2 or 3 students.  Each student should  submit  their own final report.   \n",
    "\n",
    "Your  task  for  this  lab  is  to  develop a model that will estimate peak flood discharges in urban areas across the state of North Carolina.  This model will take the form of a multiple linear regression equation. For $i = 1,...,n$:\n",
    "\n",
    "$$\n",
    "Y_i = \\beta_0 + \\beta_1 X_{1i} + \\beta_2 X_{2i} + ... + \\beta_p X_{pi} + \\epsilon_i\n",
    "$$\n",
    "\n",
    "It will be up to you to determine which predictors should be included in your model.  "
   ]
  },
  {
   "cell_type": "markdown",
   "metadata": {},
   "source": [
    "# Data\n",
    "Your data have been sampled at 32 of the 45 sites on the map on page 8 of the attached report from the United States Geological Survey. Some sites were omitted due to poor data-quality.  The data file USGSdata.csv contains the following variables for each site:"
   ]
  },
  {
   "cell_type": "markdown",
   "metadata": {},
   "source": [
    "### Independent Variables\n",
    "\n",
    "- **DA**: contributing drainage area ($mi^2$), measured from topographic maps.\n",
    "- **L**: channel length ($mi$), measured from gaging station upstream to basin divide.\n",
    "- **S**: channel slope ($ft/mi$), calculated from the difference in elevation from the 10-and 85-percent points along the stream channel.\n",
    "- **IA**: impervious area ($\\%$), found as portion of map covered by road, parking lots, roofs, etc.\n",
    "- **BDF**: basin development factor, which is “score” of urban drainage improvements (drains, sewers, gutters, etc.).\n",
    "- **RI22**: 2-year, 2-hour rainfall amount (inches of precipitation for 2-hour long storm with 2-year recurrence).\n",
    "- **RQ100**: rural equivalent peak discharge for 100-year flood ($ft^3/s$) basically gives a measure of the baseline/background flood occurrence for the area.  This number is the rate of flow for a one-in-100 year flood for natural/rural areas.\n",
    "\n",
    "### Dependent (target) variable\n",
    "\n",
    "- **Q100**: urban discharge for 100-year flood ($ft^3/s$).  These data are the flow rates for observed one-in-100 year floods for our urban areas of interest."
   ]
  },
  {
   "cell_type": "markdown",
   "metadata": {},
   "source": [
    "## Methods\n",
    "\n",
    "Before fitting the model, you may need to transform your variables so that the independent variables have linear relationships with the dependent one.  A good way to judge this is to simply plot the target variable ($Y$) versus one of the predictors ($X_j$, $j = 1,...,p$) of interest at a time.  (Hint:  see the OpenIntro Stats text here at\n",
    "https://www.openintro.org/stat/textbook.php and particularly the section s 8.2.2 on model selection strategies and 8.2.3 on checking model assumptions using graphs.)\n",
    "\n",
    "We will use the Python library `statsmodels` to build our regression models. Note that model-building can also be accomplished using the package `scikitlearn`, which includes many more models and helpful features but takes a machine learning approach to model building. We will be focusing on the basic elements of the model, for which `statsmodels` is much more transparent.\n",
    "\n",
    "Ultimately, the goal when building a model should be parimony parsimony. You want to have the most powerful, yet simplest model you can build. Thus, you would like to find the model that maximizes $Adj-R^2$."
   ]
  },
  {
   "cell_type": "code",
   "execution_count": 3,
   "metadata": {},
   "outputs": [],
   "source": [
    "import statsmodels.api as stats\n",
    "import pandas as pd"
   ]
  },
  {
   "cell_type": "code",
   "execution_count": 5,
   "metadata": {},
   "outputs": [
    {
     "data": {
      "text/plain": [
       "(32, 8)"
      ]
     },
     "execution_count": 5,
     "metadata": {},
     "output_type": "execute_result"
    }
   ],
   "source": [
    "flood_df = pd.read_csv(\"./USGSdata.csv\")\n",
    "flood_df.shape"
   ]
  },
  {
   "cell_type": "code",
   "execution_count": 7,
   "metadata": {},
   "outputs": [
    {
     "data": {
      "text/html": [
       "<div>\n",
       "<style scoped>\n",
       "    .dataframe tbody tr th:only-of-type {\n",
       "        vertical-align: middle;\n",
       "    }\n",
       "\n",
       "    .dataframe tbody tr th {\n",
       "        vertical-align: top;\n",
       "    }\n",
       "\n",
       "    .dataframe thead th {\n",
       "        text-align: right;\n",
       "    }\n",
       "</style>\n",
       "<table border=\"1\" class=\"dataframe\">\n",
       "  <thead>\n",
       "    <tr style=\"text-align: right;\">\n",
       "      <th></th>\n",
       "      <th>Q100</th>\n",
       "      <th>BDF</th>\n",
       "      <th>DA</th>\n",
       "      <th>IA</th>\n",
       "      <th>L</th>\n",
       "      <th>RI22</th>\n",
       "      <th>RQ100</th>\n",
       "      <th>S</th>\n",
       "    </tr>\n",
       "  </thead>\n",
       "  <tbody>\n",
       "    <tr>\n",
       "      <th>count</th>\n",
       "      <td>32.000000</td>\n",
       "      <td>32.00000</td>\n",
       "      <td>32.000000</td>\n",
       "      <td>32.000000</td>\n",
       "      <td>32.000000</td>\n",
       "      <td>32.000000</td>\n",
       "      <td>32.00000</td>\n",
       "      <td>32.000000</td>\n",
       "    </tr>\n",
       "    <tr>\n",
       "      <th>mean</th>\n",
       "      <td>2091.468750</td>\n",
       "      <td>6.34375</td>\n",
       "      <td>6.326250</td>\n",
       "      <td>20.123438</td>\n",
       "      <td>3.175000</td>\n",
       "      <td>2.050000</td>\n",
       "      <td>1640.12500</td>\n",
       "      <td>81.237500</td>\n",
       "    </tr>\n",
       "    <tr>\n",
       "      <th>std</th>\n",
       "      <td>2492.547938</td>\n",
       "      <td>2.63487</td>\n",
       "      <td>11.533003</td>\n",
       "      <td>13.298830</td>\n",
       "      <td>3.060744</td>\n",
       "      <td>0.170389</td>\n",
       "      <td>2214.90389</td>\n",
       "      <td>90.096943</td>\n",
       "    </tr>\n",
       "    <tr>\n",
       "      <th>min</th>\n",
       "      <td>48.000000</td>\n",
       "      <td>2.00000</td>\n",
       "      <td>0.040000</td>\n",
       "      <td>2.000000</td>\n",
       "      <td>0.110000</td>\n",
       "      <td>1.900000</td>\n",
       "      <td>10.80000</td>\n",
       "      <td>9.000000</td>\n",
       "    </tr>\n",
       "    <tr>\n",
       "      <th>25%</th>\n",
       "      <td>693.750000</td>\n",
       "      <td>4.00000</td>\n",
       "      <td>0.640000</td>\n",
       "      <td>10.850000</td>\n",
       "      <td>1.092500</td>\n",
       "      <td>1.900000</td>\n",
       "      <td>431.50000</td>\n",
       "      <td>17.025000</td>\n",
       "    </tr>\n",
       "    <tr>\n",
       "      <th>50%</th>\n",
       "      <td>1225.000000</td>\n",
       "      <td>6.00000</td>\n",
       "      <td>1.315000</td>\n",
       "      <td>16.250000</td>\n",
       "      <td>1.955000</td>\n",
       "      <td>2.100000</td>\n",
       "      <td>799.00000</td>\n",
       "      <td>50.500000</td>\n",
       "    </tr>\n",
       "    <tr>\n",
       "      <th>75%</th>\n",
       "      <td>2170.000000</td>\n",
       "      <td>9.00000</td>\n",
       "      <td>3.807500</td>\n",
       "      <td>28.500000</td>\n",
       "      <td>3.912500</td>\n",
       "      <td>2.125000</td>\n",
       "      <td>1490.00000</td>\n",
       "      <td>122.500000</td>\n",
       "    </tr>\n",
       "    <tr>\n",
       "      <th>max</th>\n",
       "      <td>10300.000000</td>\n",
       "      <td>11.00000</td>\n",
       "      <td>41.000000</td>\n",
       "      <td>54.600000</td>\n",
       "      <td>11.200000</td>\n",
       "      <td>2.600000</td>\n",
       "      <td>7830.00000</td>\n",
       "      <td>375.000000</td>\n",
       "    </tr>\n",
       "  </tbody>\n",
       "</table>\n",
       "</div>"
      ],
      "text/plain": [
       "               Q100       BDF         DA         IA          L       RI22  \\\n",
       "count     32.000000  32.00000  32.000000  32.000000  32.000000  32.000000   \n",
       "mean    2091.468750   6.34375   6.326250  20.123438   3.175000   2.050000   \n",
       "std     2492.547938   2.63487  11.533003  13.298830   3.060744   0.170389   \n",
       "min       48.000000   2.00000   0.040000   2.000000   0.110000   1.900000   \n",
       "25%      693.750000   4.00000   0.640000  10.850000   1.092500   1.900000   \n",
       "50%     1225.000000   6.00000   1.315000  16.250000   1.955000   2.100000   \n",
       "75%     2170.000000   9.00000   3.807500  28.500000   3.912500   2.125000   \n",
       "max    10300.000000  11.00000  41.000000  54.600000  11.200000   2.600000   \n",
       "\n",
       "            RQ100           S  \n",
       "count    32.00000   32.000000  \n",
       "mean   1640.12500   81.237500  \n",
       "std    2214.90389   90.096943  \n",
       "min      10.80000    9.000000  \n",
       "25%     431.50000   17.025000  \n",
       "50%     799.00000   50.500000  \n",
       "75%    1490.00000  122.500000  \n",
       "max    7830.00000  375.000000  "
      ]
     },
     "execution_count": 7,
     "metadata": {},
     "output_type": "execute_result"
    }
   ],
   "source": [
    "flood_df.describe()"
   ]
  },
  {
   "cell_type": "code",
   "execution_count": 16,
   "metadata": {},
   "outputs": [
    {
     "name": "stdout",
     "output_type": "stream",
     "text": [
      "                                 OLS Regression Results                                \n",
      "=======================================================================================\n",
      "Dep. Variable:                   Q100   R-squared (uncentered):                   0.923\n",
      "Model:                            OLS   Adj. R-squared (uncentered):              0.915\n",
      "Method:                 Least Squares   F-statistic:                              116.3\n",
      "Date:                Mon, 26 Aug 2019   Prob (F-statistic):                    2.87e-16\n",
      "Time:                        02:15:37   Log-Likelihood:                         -262.83\n",
      "No. Observations:                  32   AIC:                                      531.7\n",
      "Df Residuals:                      29   BIC:                                      536.1\n",
      "Df Model:                           3                                                  \n",
      "Covariance Type:            nonrobust                                                  \n",
      "==============================================================================\n",
      "                 coef    std err          t      P>|t|      [0.025      0.975]\n",
      "------------------------------------------------------------------------------\n",
      "BDF           99.2499     37.984      2.613      0.014      21.564     176.936\n",
      "DA           145.6073     35.941      4.051      0.000      72.099     219.115\n",
      "L            188.8903    128.309      1.472      0.152     -73.531     451.311\n",
      "==============================================================================\n",
      "Omnibus:                        2.865   Durbin-Watson:                   0.855\n",
      "Prob(Omnibus):                  0.239   Jarque-Bera (JB):                1.795\n",
      "Skew:                           0.561   Prob(JB):                        0.408\n",
      "Kurtosis:                       3.295   Cond. No.                         11.5\n",
      "==============================================================================\n",
      "\n",
      "Warnings:\n",
      "[1] Standard Errors assume that the covariance matrix of the errors is correctly specified.\n"
     ]
    }
   ],
   "source": [
    "# instantiate model\n",
    "flood_lm = stats.OLS(\n",
    "    endog = flood_df[\"Q100\"],\n",
    "    exog = flood_df[[\"BDF\", \"DA\", \"L\"]],\n",
    "    missing = \"drop\"\n",
    ")\n",
    "\n",
    "# fit model\n",
    "lm_results = flood_lm.fit()\n",
    "print(lm_results.summary())"
   ]
  },
  {
   "cell_type": "markdown",
   "metadata": {},
   "source": [
    "## Assignment\n",
    "1. Perform exploratory data analysis on the variables using charts and graphs, include some of this output and commentary in your final report.\n",
    "2. Fit a linear model that predicts the target variable **Q100** to the data. Include the summary output from this model, and also write out the final equation symbolically using Markdown.\n",
    "3. Justify your choice of final model using values from the regression output. Why was it better than other models which you may have explored?\n",
    "4. Present your plot of the residuals for this final model. Provide justification for how this plot shows that the residuals satisfy the normality assumption.\n",
    "5. Discuss whether or not you think the various assumptions that go into the multiple linear regression model hold up for this dataset.  How can the physical layout of the stations affect assertions about constant variance over our data?  What about independence?\n",
    "\n",
    "**Note:** You will be graded in part on the quality of your final model. It should have a sufficiently large $Adj-R^2$ (high 80s) and be sufficiently parsimonious!"
   ]
  }
 ],
 "metadata": {
  "kernelspec": {
   "display_name": "Python 3",
   "language": "python",
   "name": "python3"
  },
  "language_info": {
   "codemirror_mode": {
    "name": "ipython",
    "version": 3
   },
   "file_extension": ".py",
   "mimetype": "text/x-python",
   "name": "python",
   "nbconvert_exporter": "python",
   "pygments_lexer": "ipython3",
   "version": "3.7.3"
  }
 },
 "nbformat": 4,
 "nbformat_minor": 2
}
