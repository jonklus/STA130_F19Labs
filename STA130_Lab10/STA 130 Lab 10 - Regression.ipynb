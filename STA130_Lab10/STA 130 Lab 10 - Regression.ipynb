{
 "cells": [
  {
   "cell_type": "markdown",
   "metadata": {},
   "source": [
    "# STA 130 Lab 10: Multiple Regression\n",
    "*Your Name Here*"
   ]
  },
  {
   "cell_type": "markdown",
   "metadata": {},
   "source": [
    "# Instructions\n",
    "\n",
    "Work in teams of 2 or 3 students.  Each student should  submit  their own final report.   \n",
    "\n",
    "Your  task  for  this  lab  is  to  develop a model that will estimate peak flood discharges in urban areas across the state of North Carolina.  This model will take the form of a multiple linear regression equation. For $i = 1,...,n$:\n",
    "\n",
    "$$\n",
    "Y_i = \\beta_0 + \\beta_1 X_{1i} + \\beta_2 X_{2i} + ... + \\beta_p X_{pi} + \\epsilon_i\n",
    "$$\n",
    "\n",
    "It will be up to you to determine which predictors should be included in your model.  "
   ]
  },
  {
   "cell_type": "markdown",
   "metadata": {},
   "source": [
    "# Data\n",
    "Your data have been sampled at 32 of the 45 sites on the map in Figure 1 (some sites were omitted due to poor data-quality).  The data file USGSdata.csv contains the following variables for each site:"
   ]
  },
  {
   "cell_type": "code",
   "execution_count": null,
   "metadata": {},
   "outputs": [],
   "source": []
  }
 ],
 "metadata": {
  "kernelspec": {
   "display_name": "Python 3",
   "language": "python",
   "name": "python3"
  },
  "language_info": {
   "codemirror_mode": {
    "name": "ipython",
    "version": 3
   },
   "file_extension": ".py",
   "mimetype": "text/x-python",
   "name": "python",
   "nbconvert_exporter": "python",
   "pygments_lexer": "ipython3",
   "version": "3.7.3"
  }
 },
 "nbformat": 4,
 "nbformat_minor": 2
}
