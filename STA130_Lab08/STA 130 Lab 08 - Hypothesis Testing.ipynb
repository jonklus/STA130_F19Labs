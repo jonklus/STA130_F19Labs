{
 "cells": [
  {
   "cell_type": "markdown",
   "metadata": {},
   "source": [
    "# STA 130 Lab 8: Hypothesis Testing\n",
    "*Your Name Here*"
   ]
  },
  {
   "cell_type": "markdown",
   "metadata": {},
   "source": [
    "The goal of this lab is to explore the role of sample size in hypothesis testing, as well as\n",
    "to familiarize you with tools for conducting hypothesis tests.  As a real-life example, we’ll\n",
    "use some recent research published by two members of Duke’s Biomedical\n",
    "Engineering Department:\n",
    "\n",
    "Malkin, R. & Keane, A. (2010). *Evidence-based approach to the maintenance of laboratory and medical equipment in resource-poor settings*. Med Biol Eng Comput 48:  721–726.  DOI: 10.1007/s11517-010-0630-1"
   ]
  },
  {
   "cell_type": "markdown",
   "metadata": {},
   "source": [
    "In the above paper (available on Sakai), the authors state the following:\n",
    "**\"Of  the  2,529  [medical  equipment]  pieces,  1,821  pieces  were  repaired.   This\n",
    "is  a  remarkable  result.   Without  the  use  of  imported  spare  parts  and  without\n",
    "extraordinary financial resources or specialized tools, engineering volunteers were\n",
    "able to put 72% of the equipment back into service.  This strongly contradicts the\n",
    "hypothesis that most medical equipment repairs require imported spare parts to\n",
    "be returned to service in resource-poor settings.\"**"
   ]
  },
  {
   "cell_type": "code",
   "execution_count": 12,
   "metadata": {},
   "outputs": [],
   "source": [
    "import scipy\n",
    "import numpy as np\n",
    "import scipy.stats as stats\n",
    "from statsmodels.stats import weightstats as tests"
   ]
  },
  {
   "cell_type": "code",
   "execution_count": 24,
   "metadata": {},
   "outputs": [
    {
     "data": {
      "text/plain": [
       "0.7200474495848161"
      ]
     },
     "execution_count": 24,
     "metadata": {},
     "output_type": "execute_result"
    }
   ],
   "source": [
    "1821/2529 # confirm article's math"
   ]
  },
  {
   "cell_type": "markdown",
   "metadata": {},
   "source": [
    "1. Write  the  null  and  alternative  hypotheses  for  the  above  statement.   This  requires  an\n",
    "interpretation  of  what  “most”  means  in  the  last  sentence.   Make  sure  to  define  the\n",
    "meaning of the population parameter being tested here (consider what data we have to\n",
    "test these hypotheses)."
   ]
  },
  {
   "cell_type": "markdown",
   "metadata": {},
   "source": [
    "$H_0:$\n",
    "\n",
    "$H_A:$"
   ]
  },
  {
   "cell_type": "markdown",
   "metadata": {},
   "source": [
    "2. Let’s  estimate  the p-value  via  simulation.   Generate  10,000  samples,  then  answer  the following questions:"
   ]
  },
  {
   "cell_type": "code",
   "execution_count": 18,
   "metadata": {},
   "outputs": [],
   "source": [
    "sim1 = [scipy.random.binomial(n = 1, p = 0.72) for i in range(10**5)]"
   ]
  },
  {
   "cell_type": "markdown",
   "metadata": {},
   "source": [
    "- What is the standard deviation of your simulated values?"
   ]
  },
  {
   "cell_type": "code",
   "execution_count": 20,
   "metadata": {},
   "outputs": [
    {
     "data": {
      "text/plain": [
       "0.4470919116915447"
      ]
     },
     "execution_count": 20,
     "metadata": {},
     "output_type": "execute_result"
    }
   ],
   "source": [
    "np.std(sim1)"
   ]
  },
  {
   "cell_type": "markdown",
   "metadata": {},
   "source": [
    "- What critical value is associated with a significance level $\\alpha = 0.05$?  To reject the\n",
    "null, should our sample statistic fall above or below this critical value?"
   ]
  },
  {
   "cell_type": "code",
   "execution_count": null,
   "metadata": {},
   "outputs": [],
   "source": []
  },
  {
   "cell_type": "markdown",
   "metadata": {},
   "source": [
    "- What p-value  do  you  get  for  the  sample  data  in  the  statement  above?   What  is wrong with this number (think about how this p-value estimate is found and what it theoretically should be)?"
   ]
  },
  {
   "cell_type": "code",
   "execution_count": null,
   "metadata": {},
   "outputs": [],
   "source": []
  },
  {
   "cell_type": "markdown",
   "metadata": {},
   "source": [
    "3. Suppose that Professor Malkin had not conducted such a robust analysis, and had only sampled  50  medical  devices,  but  still  got  the  same  result  that  72%  (36)  were  fixable without spare parts.  Repeat your analysis, but with this fictitious data."
   ]
  },
  {
   "cell_type": "markdown",
   "metadata": {},
   "source": [
    "- What is the standard deviation of your simulated values?"
   ]
  },
  {
   "cell_type": "code",
   "execution_count": null,
   "metadata": {},
   "outputs": [],
   "source": []
  },
  {
   "cell_type": "markdown",
   "metadata": {},
   "source": [
    "- What critical value is associated with a significance level $\\alpha = 0.05$? "
   ]
  },
  {
   "cell_type": "code",
   "execution_count": null,
   "metadata": {},
   "outputs": [],
   "source": []
  },
  {
   "cell_type": "markdown",
   "metadata": {},
   "source": [
    "- What p-value  do  you  get  for  the  sample  data  in  the  statement  above? How does it compare to the p-value that you previously calculated?"
   ]
  },
  {
   "cell_type": "code",
   "execution_count": null,
   "metadata": {},
   "outputs": [],
   "source": []
  },
  {
   "cell_type": "markdown",
   "metadata": {},
   "source": [
    "4. Now let’s obtain a p-value from a theoretical distribution."
   ]
  },
  {
   "cell_type": "markdown",
   "metadata": {},
   "source": [
    "- Calculate the test statistic for the original problem, as stated in the article."
   ]
  },
  {
   "cell_type": "code",
   "execution_count": null,
   "metadata": {},
   "outputs": [],
   "source": []
  },
  {
   "cell_type": "markdown",
   "metadata": {},
   "source": [
    "- What distribution, with parameter values, should we use to find the p-value associated with this test statistic?"
   ]
  },
  {
   "cell_type": "code",
   "execution_count": null,
   "metadata": {},
   "outputs": [],
   "source": []
  },
  {
   "cell_type": "markdown",
   "metadata": {},
   "source": [
    "- Conduct the hypothesis test using the Python library `statsmodels`. Compare this to the p-value you calculated in question 2. "
   ]
  },
  {
   "cell_type": "code",
   "execution_count": 4,
   "metadata": {},
   "outputs": [],
   "source": [
    "stests.ztest()"
   ]
  },
  {
   "cell_type": "markdown",
   "metadata": {},
   "source": [
    "- What test statistic and p-value do you get using the `statsmodels ztest` function for the fictitious study data?"
   ]
  },
  {
   "cell_type": "code",
   "execution_count": null,
   "metadata": {},
   "outputs": [],
   "source": []
  },
  {
   "cell_type": "markdown",
   "metadata": {},
   "source": [
    "5. Given the original study data and the tests that you have performed, what can we say about the last sentence of the bolded excerpt from the article that appears at the beginning of this lab? Support your answer with statistical reasoning."
   ]
  },
  {
   "cell_type": "code",
   "execution_count": null,
   "metadata": {},
   "outputs": [],
   "source": []
  }
 ],
 "metadata": {
  "kernelspec": {
   "display_name": "Python 3",
   "language": "python",
   "name": "python3"
  },
  "language_info": {
   "codemirror_mode": {
    "name": "ipython",
    "version": 3
   },
   "file_extension": ".py",
   "mimetype": "text/x-python",
   "name": "python",
   "nbconvert_exporter": "python",
   "pygments_lexer": "ipython3",
   "version": "3.7.3"
  }
 },
 "nbformat": 4,
 "nbformat_minor": 2
}
