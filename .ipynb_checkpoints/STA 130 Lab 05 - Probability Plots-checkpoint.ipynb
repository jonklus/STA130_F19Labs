{
 "cells": [
  {
   "cell_type": "markdown",
   "metadata": {},
   "source": [
    "# Lab 5 - Probability Plots\n",
    "*Your Name Here*"
   ]
  },
  {
   "cell_type": "markdown",
   "metadata": {},
   "source": [
    "## Electromyographic signals\n",
    "\n",
    "Electromyography (EMG) records the electrical potential of muscle activity, and, as such,\n",
    "is  a  useful  tool  in  developing  neurologically-activated  devices,  such  as  prosthetics.   One\n",
    "complication  in  making  such  devices  practical  is  the  variability  in  EMG  signal  intensity,\n",
    "even for signals triggering the same action in the same muscle.  A couple cutting-edge papers\n",
    "look at this variability:\n",
    "\n",
    "- Rupasov VI, Lebedev MA, Erlichman JS, Linderman M (2012). *Neuronal Variability during Handwriting:  Lognormal Distribution*.  PLoS ONE 7(4):  e34759. doi:10.1371/journal.pone.0034759\n",
    "\n",
    "- Rupasov  VI,  Lebedev  MA,  Erlichman  JS,  Lee  SL,  Leiter  JC,  Linderman  M  (2012). *Time-Dependent Statistical and Correlation Properties of Neural Signals during Hand- writing*.  PLoS ONE 7(9):  e43945.  doi:10.1371/journal.pone.0043945\n",
    "\n",
    "**Read the first paper** (available  on  Sakai,  or  searchable  online). The  second  paper,  in\n",
    "particular the “Methods” section, may help clarify some procedures in the first paper, and\n",
    "it also makes use of some other interesting statistics that we’ve talked about already.\n",
    "Note from the author affiliations in these papers that this is Duke research! You will be using the very same data from this first paper."
   ]
  },
  {
   "cell_type": "code",
   "execution_count": null,
   "metadata": {
    "collapsed": true
   },
   "outputs": [],
   "source": []
  }
 ],
 "metadata": {
  "kernelspec": {
   "display_name": "Python 3",
   "language": "python",
   "name": "python3"
  },
  "language_info": {
   "codemirror_mode": {
    "name": "ipython",
    "version": 3
   },
   "file_extension": ".py",
   "mimetype": "text/x-python",
   "name": "python",
   "nbconvert_exporter": "python",
   "pygments_lexer": "ipython3",
   "version": "3.5.2"
  }
 },
 "nbformat": 4,
 "nbformat_minor": 2
}
