{
 "cells": [
  {
   "cell_type": "markdown",
   "metadata": {},
   "source": [
    "# STA 130 Lab 3\n",
    "*Your Name Here*"
   ]
  },
  {
   "cell_type": "markdown",
   "metadata": {},
   "source": [
    "## The Game of Craps\n",
    "\n",
    "The game of craps is played with two dice.  On the first roll:\n",
    "- You lose if you get a total of 2, 3, or 12\n",
    "- You win if you get a total of 7 or 11\n",
    "- Otherwise, the total becomes your “point”, and you continue to roll the dice\n",
    "\n",
    "On your subsequent rolls:\n",
    "- You win if you roll a total that matches your point before you roll a 7\n",
    "- Otherwise, you lose by rolling a 7 before you match your point\n",
    "\n",
    "## The Experiment\n",
    "Form groups of two (or three, if needed), and play craps (to simulate dice rolling, use https://www.random.org/dice).  Take turns being the “shooter” (dice roller/player), while the other person\n",
    "is the house/casino that keeps the player honest.  Make sure each person plays 10 times, and record whether\n",
    "they win or lose.  Based on your record, what is your probability of winning at craps?\n",
    "Once you’re done, write your results on the board.  When everybody is finished, you should use the data\n",
    "collected to make a more informed estimate for the probability of winning."
   ]
  },
  {
   "cell_type": "code",
   "execution_count": null,
   "metadata": {
    "collapsed": false
   },
   "outputs": [],
   "source": []
  },
  {
   "cell_type": "markdown",
   "metadata": {},
   "source": [
    "## The Theory\n",
    "\n",
    "Next, work with your partner(s) to calculate the theoretical probability of winning at craps by answering the following questions: \n",
    "- Let $W$ be the event you win.  Let $T_i$ be the event that you get a total of $i$ on the first roll (the point),\n",
    "for $i = 2, 3, . . . ,12$."
   ]
  },
  {
   "cell_type": "markdown",
   "metadata": {
    "collapsed": true
   },
   "source": [
    "Are the  events\n",
    "$ T_2, T_3, . . . , T_{12}$ mutually  exclusive and  collectively exhaustive (in the  sense that\n",
    "their union is the whole sample space)?"
   ]
  },
  {
   "cell_type": "code",
   "execution_count": null,
   "metadata": {
    "collapsed": false
   },
   "outputs": [],
   "source": []
  },
  {
   "cell_type": "markdown",
   "metadata": {},
   "source": [
    "Complete the following equation using conditional probabilities:\n",
    "\n",
    "$Pr(W) = \\sum\\limits_{i=2}^{12} Pr(W \\cap T_i) = $"
   ]
  },
  {
   "cell_type": "markdown",
   "metadata": {},
   "source": [
    "Find the $Pr(T_i)$ for each $i$.  Recall, from your reading of DeGroot and Schervish, examples 1.65 and 1.73, the\n",
    "number of ways that 2 dice can be rolled.  You might try problems 1.6.1 and 1.6.2 from the book for a\n",
    "warm-up if you need it."
   ]
  },
  {
   "cell_type": "markdown",
   "metadata": {},
   "source": [
    "Total $i$ | Probability $Pr(T_i)$\n",
    "------|-------------\n",
    "$1$ | \n",
    "$2$ | \n",
    "$3$ | \n",
    "$4$ | \n",
    "$5$ | \n",
    "$6$ | \n",
    "$7$ | \n",
    "$8$ | \n",
    "$9$ | \n",
    "$10$ |\n",
    "$11$ |\n",
    "$12$ |"
   ]
  },
  {
   "cell_type": "markdown",
   "metadata": {},
   "source": [
    "At this point, we need to evaluate whether we’ve already won or lost (recall from above:  2, 3, 12 =\n",
    "lose; 7, 11 = win; 4, 5, 6, 8, 9, 10 = keep rolling).  What are the conditional probabilities of winning,\n",
    "$Pr(W | T_i)$?\n",
    "\n",
    "It may help here to first consider an example.  Let’s say we have a point of 4.\n",
    "- What are the rolls that will stop play?\n",
    "- Which of those rolls will result in a win?\n",
    "- So the probability of winning given a point of 4 is ____ ."
   ]
  },
  {
   "cell_type": "markdown",
   "metadata": {},
   "source": [
    "Total $i$ | Probability $Pr(W|T_i)$\n",
    "------|-------------\n",
    "$1$ | \n",
    "$2$ |\n",
    "$3$ |\n",
    "$4$ |\n",
    "$5$ |\n",
    "$6$ |\n",
    "$7$ |\n",
    "$8$ |\n",
    "$9$ |\n",
    "$10$ |\n",
    "$11$ |\n",
    "$12$ |"
   ]
  },
  {
   "cell_type": "markdown",
   "metadata": {},
   "source": [
    "Now  use  the  equation  you  developed  above  with  the  tables  you  just  filled  out  to  find  the  total\n",
    "probability of winning at craps."
   ]
  },
  {
   "cell_type": "code",
   "execution_count": null,
   "metadata": {
    "collapsed": true
   },
   "outputs": [],
   "source": []
  },
  {
   "cell_type": "markdown",
   "metadata": {},
   "source": [
    "## The Simulation\n",
    "\n",
    "Develop a Python function to simulate a game of craps and record whether you win or lose.  Simulate 1,000 games and use the outcomes to estimate the probability of winning. Run this simulation 1,000 times and find the mean and variance of your estimate of $Pr(Win)$.\n",
    "\n",
    "Make a histogram of your 1000 simulated estimates of $Pr(Win)$.  Compare these to your experimental and\n",
    "theoretical estimates by adding a vertical line to the histogram for each of these.\n",
    "\n",
    "Write a brief discussion of your results:  \n",
    "- Which method of finding the probability of winning do you trust more? Why?\n",
    "- What are the pros and cons of each method?  \n",
    "- Is craps a fair game (i.e. does neither party, house or player, have an advantage)?\n",
    "\n",
    "Hint: Python's scientific computing library, `SciPy`, will be very helpful. Use the `random` module to simulate rolling two die. Functionalizing your simulation will also be cleaner and more efficient."
   ]
  },
  {
   "cell_type": "code",
   "execution_count": 35,
   "metadata": {
    "collapsed": false
   },
   "outputs": [],
   "source": [
    "import scipy as sp\n",
    "import numpy as np\n",
    "import matplotlib.pyplot as plt"
   ]
  },
  {
   "cell_type": "code",
   "execution_count": 19,
   "metadata": {
    "collapsed": true
   },
   "outputs": [],
   "source": [
    "# set random seed for reproducibility\n",
    "sp.random.seed(seed = 11561)"
   ]
  },
  {
   "cell_type": "code",
   "execution_count": 20,
   "metadata": {
    "collapsed": true
   },
   "outputs": [],
   "source": [
    "def crap_roll(n_rolls):\n",
    "    \"\"\"\n",
    "    This function simulates rolling a pair of fair dice in the game of craps using\n",
    "    the multinomial distribution. It returns the total for each roll. \n",
    "    \"\"\"\n",
    "    # make random draws from multinomial dist - equivalent to rolling a dice\n",
    "    roll = sp.random.multinomial(n_rolls, (1/6,1/6,1/6,1/6,1/6,1/6), size = 2)\n",
    "    values = (1, 2, 3, 4, 5, 6)\n",
    "    return sum(sum(roll*values))"
   ]
  },
  {
   "cell_type": "code",
   "execution_count": 27,
   "metadata": {
    "collapsed": false
   },
   "outputs": [],
   "source": [
    "def crap(n):\n",
    "    \"\"\"\n",
    "    This function simulates n rounds of the game of craps. It ouputs a n x 2 matrix\n",
    "    where each row is the outcome of a game and whether the player won or lost.\n",
    "    In column 2, 1 denotes a win and 0 denotes a loss. \n",
    "    \"\"\"\n",
    "    crap_results = np.zeros((n,2)) # pre-allocate memory for results\n",
    "    for i in range(n):\n",
    "        outcome = crap_roll(1) # first roll\n",
    "        if outcome in (7, 11):\n",
    "            crap_results[i,] = (outcome, 1) # win\n",
    "        elif outcome in (2, 3, 12):\n",
    "            crap_results[i,] = (outcome, 0) # lose\n",
    "        else:\n",
    "            point = outcome\n",
    "            while outcome != 7:\n",
    "                outcome = crap_roll(1)\n",
    "                if outcome == point:\n",
    "                    crap_results[i,] = (outcome, 1) # win\n",
    "                    break\n",
    "            if outcome == 7:\n",
    "                crap_results[i,] = (outcome, 0) # lose  \n",
    "    return crap_results"
   ]
  },
  {
   "cell_type": "code",
   "execution_count": 31,
   "metadata": {
    "collapsed": false
   },
   "outputs": [],
   "source": [
    "n_sim = 10**3\n",
    "crap_simulation = np.zeros((n_sim, 1))\n",
    "for sim in range(n_sim):\n",
    "    crap_simulation[sim] = np.mean(crap(n = 10**3), axis = 0)[1]"
   ]
  },
  {
   "cell_type": "code",
   "execution_count": 52,
   "metadata": {
    "collapsed": false
   },
   "outputs": [
    {
     "data": {
      "image/png": "[encoded data removed]",
      "text/plain": [
       "<matplotlib.figure.Figure at 0x7f7c27ebd208>"
      ]
     },
     "metadata": {},
     "output_type": "display_data"
    }
   ],
   "source": [
    "plt.hist(crap_simulation)\n",
    "plt.axvline(x = np.mean(crap_simulation), color = \"b\") # empirical mean\n",
    "plt.text(x = np.mean(crap_simulation) - 0.02, y = 275, s = \"Empirical\", color = \"b\")\n",
    "plt.axvline(x = 0.5, color = \"r\") # theoretical mean\n",
    "plt.text(x = 0.5 + 0.002, y = 275, s = \"Theoretical\", color = \"r\")\n",
    "\n",
    "pass"
   ]
  },
  {
   "cell_type": "code",
   "execution_count": null,
   "metadata": {
    "collapsed": true
   },
   "outputs": [],
   "source": []
  }
 ],
 "metadata": {
  "kernelspec": {
   "display_name": "Python 3",
   "language": "python",
   "name": "python3"
  },
  "language_info": {
   "codemirror_mode": {
    "name": "ipython",
    "version": 3
   },
   "file_extension": ".py",
   "mimetype": "text/x-python",
   "name": "python",
   "nbconvert_exporter": "python",
   "pygments_lexer": "ipython3",
   "version": "3.5.2"
  }
 },
 "nbformat": 4,
 "nbformat_minor": 2
}
