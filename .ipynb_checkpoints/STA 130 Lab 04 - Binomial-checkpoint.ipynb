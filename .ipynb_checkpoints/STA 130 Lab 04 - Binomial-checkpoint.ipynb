{
 "cells": [
  {
   "cell_type": "markdown",
   "metadata": {},
   "source": [
    "# STA 130 Lab 4 - The Binomial Distribution\n",
    "*Your Name Here*"
   ]
  },
  {
   "cell_type": "markdown",
   "metadata": {},
   "source": [
    "The game of Lucky Dice is played with three dice.  Each person picks an integer 1 to 6, and\n",
    "bets one fake dollar.  The house (your TA) rolls the three dice, and your payoff is based on\n",
    "how many times your number is matched on the dice.  For zero matches, the house keeps the\n",
    "dollar.  For exactly one match, you get your dollar back plus another dollar.  For exactly two\n",
    "matches, you get your dollar back plus two dollars profit, and for all three matches, you get\n",
    "your dollar plus three dollars profit.\n",
    "\n",
    "Your whole lab section will now play a round of lucky dice.  Everyone pick an integer\n",
    "from the set 1, 2, 3, 4, 5, 6.  What is the theoretical probability of exactly one die matching\n",
    "your particular chosen number?\n",
    "\n",
    "Your  TA  will  roll  the  three  dice  and  announce  the  numbers.   Count  your  number  of\n",
    "matches.  \n",
    "\n",
    "Let $X =$ number of matches and $Y =$ profit per game.  Theoretically, what is the distribution of $X$ ?  What are the parameter values?"
   ]
  },
  {
   "cell_type": "code",
   "execution_count": null,
   "metadata": {
    "collapsed": true
   },
   "outputs": [],
   "source": []
  },
  {
   "cell_type": "markdown",
   "metadata": {},
   "source": [
    "The matches from the whole class will be tallied up for the following individual\n",
    "work.  Start by completing this table:"
   ]
  },
  {
   "cell_type": "code",
   "execution_count": null,
   "metadata": {
    "collapsed": true
   },
   "outputs": [],
   "source": []
  }
 ],
 "metadata": {
  "kernelspec": {
   "display_name": "Python 3",
   "language": "python",
   "name": "python3"
  },
  "language_info": {
   "codemirror_mode": {
    "name": "ipython",
    "version": 3
   },
   "file_extension": ".py",
   "mimetype": "text/x-python",
   "name": "python",
   "nbconvert_exporter": "python",
   "pygments_lexer": "ipython3",
   "version": "3.5.2"
  }
 },
 "nbformat": 4,
 "nbformat_minor": 2
}
