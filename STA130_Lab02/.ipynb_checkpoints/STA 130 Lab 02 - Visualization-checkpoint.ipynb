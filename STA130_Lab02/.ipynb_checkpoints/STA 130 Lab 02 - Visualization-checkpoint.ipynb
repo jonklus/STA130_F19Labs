{
 "cells": [
  {
   "cell_type": "markdown",
   "metadata": {},
   "source": [
    "# Lab 2 - Visualization with Seaborn and Matplotlib\n",
    "*Your Name Here*"
   ]
  },
  {
   "cell_type": "markdown",
   "metadata": {},
   "source": [
    "In this lab we will explore how to create effective visualizations using widely available Python libraries. Our focus will be on conveying information that may be relevant to a statistical or scientific problem. We will start off by using the CDC data set from Lab 1 again."
   ]
  },
  {
   "cell_type": "code",
   "execution_count": 1,
   "metadata": {},
   "outputs": [],
   "source": [
    "import pandas as pd # library for basic data manipulation tools\n",
    "import matplotlib.pyplot as plt\n",
    "import seaborn as sns"
   ]
  },
  {
   "cell_type": "code",
   "execution_count": 2,
   "metadata": {},
   "outputs": [],
   "source": [
    "# read in data\n",
    "cdc_df = pd.read_csv(\"./cdc.csv\")\n",
    "\n",
    "# correct data types for categorical variables\n",
    "cdc_df = cdc_df.astype(dict(genhlth = \"category\",\n",
    "                            exerany = \"category\",\n",
    "                            hlthplan = \"category\",\n",
    "                            smoke100 = \"category\",\n",
    "                            gender = \"category\"\n",
    "                           )\n",
    "                      )"
   ]
  },
  {
   "cell_type": "markdown",
   "metadata": {},
   "source": [
    "## Univariate summaries - continuous"
   ]
  },
  {
   "cell_type": "markdown",
   "metadata": {},
   "source": [
    "### Histogram"
   ]
  },
  {
   "cell_type": "code",
   "execution_count": null,
   "metadata": {
    "collapsed": false
   },
   "outputs": [],
   "source": []
  },
  {
   "cell_type": "code",
   "execution_count": null,
   "metadata": {},
   "outputs": [],
   "source": []
  },
  {
   "cell_type": "markdown",
   "metadata": {},
   "source": [
    "### Boxplot"
   ]
  },
  {
   "cell_type": "code",
   "execution_count": null,
   "metadata": {
    "collapsed": false
   },
   "outputs": [],
   "source": []
  },
  {
   "cell_type": "markdown",
   "metadata": {},
   "source": [
    "Matplotlib may not have the best functionality for boxplots - we usually want to visually compare subgroups as part of our exploratory data analysis."
   ]
  },
  {
   "cell_type": "code",
   "execution_count": null,
   "metadata": {
    "collapsed": false
   },
   "outputs": [],
   "source": []
  },
  {
   "cell_type": "markdown",
   "metadata": {},
   "source": [
    "### Bivariate visualizations - the scatterplot"
   ]
  },
  {
   "cell_type": "code",
   "execution_count": null,
   "metadata": {
    "collapsed": false,
    "scrolled": true
   },
   "outputs": [],
   "source": []
  },
  {
   "cell_type": "markdown",
   "metadata": {},
   "source": [
    "## Summaries of discrete quantities"
   ]
  },
  {
   "cell_type": "code",
   "execution_count": null,
   "metadata": {},
   "outputs": [],
   "source": []
  },
  {
   "cell_type": "markdown",
   "metadata": {},
   "source": [
    "## Facet wrap and multi-window plots"
   ]
  },
  {
   "cell_type": "code",
   "execution_count": null,
   "metadata": {},
   "outputs": [],
   "source": []
  },
  {
   "cell_type": "code",
   "execution_count": null,
   "metadata": {},
   "outputs": [],
   "source": []
  },
  {
   "cell_type": "markdown",
   "metadata": {},
   "source": [
    "## Assignment\n",
    "\n",
    "Before the end of lab, make at least two plots of your own using the `Matplotlib` and/or `Seaborn` libraries (you may use the CDC data, simulate data, or use a data set of your choosing). Write a few sentences describing the variable(s) in your plot using appropriate summary statistics. **Be sure to do this in a reproducible manner!** That is, your TA should be able to see each step you took and recompile your code to get back the same charts and summary statistics that you describe in your write-up. "
   ]
  },
  {
   "cell_type": "code",
   "execution_count": null,
   "metadata": {
    "collapsed": true
   },
   "outputs": [],
   "source": []
  },
  {
   "cell_type": "code",
   "execution_count": null,
   "metadata": {},
   "outputs": [],
   "source": []
  },
  {
   "cell_type": "markdown",
   "metadata": {},
   "source": [
    "## References\n",
    "1. VanderPlas, J. (2016). *Python Data Science Handbook*. Retrieved from: https://jakevdp.github.io/PythonDataScienceHandbook/.\n",
    "2. The Matplotlib dev team (2018). *Matplotlib Documentation*. https://matplotlib.org/3.1.1/contents.html.\n",
    "3. Waskom, M. (2018). *Seaborn: statistical data visualization*. https://seaborn.pydata.org/."
   ]
  }
 ],
 "metadata": {
  "kernelspec": {
   "display_name": "Python 3",
   "language": "python",
   "name": "python3"
  },
  "language_info": {
   "codemirror_mode": {
    "name": "ipython",
    "version": 3
   },
   "file_extension": ".py",
   "mimetype": "text/x-python",
   "name": "python",
   "nbconvert_exporter": "python",
   "pygments_lexer": "ipython3",
   "version": "3.7.3"
  }
 },
 "nbformat": 4,
 "nbformat_minor": 2
}
