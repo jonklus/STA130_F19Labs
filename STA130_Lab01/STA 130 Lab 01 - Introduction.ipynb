{
 "cells": [
  {
   "cell_type": "markdown",
   "metadata": {},
   "source": [
    "# STA 130 Lab 1"
   ]
  },
  {
   "cell_type": "markdown",
   "metadata": {},
   "source": [
    "## Goals\n",
    "Today's lab will cover a brief introduction to Python and some of its scientific computing libraries. Since most students in STA 130 should already be familiar with Python, this will be a brief refresher, as well as an introduction to Jupyter notebooks and reproducible research."
   ]
  },
  {
   "cell_type": "markdown",
   "metadata": {},
   "source": [
    "## A brief foray into Microsoft Excel\n",
    "\n",
    "- The popular spreadsheet software is very common in finance, consulting, and even some engineering firms. \n",
    "- Can be helpful for quick calculations, but it is not reproducible and formulas are prone to error and even unintended changes if not properly protected.\n",
    "- Many data repositories, especially those run by the federal government, still provide data downloads in the form of .xls, .xslx, or the simpler .csv file format. \n",
    "- We will download some data in Excel and demonstrate some basic data manipulation in Python."
   ]
  },
  {
   "cell_type": "markdown",
   "metadata": {},
   "source": [
    "## Getting data\n",
    "- The UCI Machine Learning Repository is a large collection of data sets (of varying vintages) that are in the public domain.\n",
    "- Many government website also provide raw data in various formats.\n",
    "- We will examine some data from the CDC that is available at https://www.openintro.org/stat/data/?data=cdc"
   ]
  },
  {
   "cell_type": "code",
   "execution_count": 5,
   "metadata": {
    "collapsed": true
   },
   "outputs": [],
   "source": [
    "import pandas as pd # library for basic data manipulation tools"
   ]
  },
  {
   "cell_type": "markdown",
   "metadata": {},
   "source": [
    "- Download the data by clicking the yellow \"CSV Download\" button\n",
    "- First open the file using Microsoft Excel. We'll explore `Text to Columns`, write a quick formula, and make a graphic.\n",
    "    - **Note**: Excel is not reproducible and **should not** be used as a data analysis tool for research. It can also be troublesome as a data entry tool, since it tries to be helpful by automatically converting data types. These changes often cannot be undone.\n",
    "    - It is more prudent to save data in plain-text format (e.g. as a .csv file) and handle any data cleaning and analysis tasks in software like R or Python. \n",
    "    - Statistical software gives you more control and makes it much more difficult to overwrite your source data. It is also reproducible, since your well-commented script is an outline of each step that you took from the moment that you began working with the data. \n",
    "- Now upload to your Docker container on the OIT server and read into your Jupyter notebook using `read_csv` from the `pandas` library."
   ]
  },
  {
   "cell_type": "code",
   "execution_count": 6,
   "metadata": {
    "collapsed": false
   },
   "outputs": [
    {
     "data": {
      "text/html": [
       "<div>\n",
       "<style scoped>\n",
       "    .dataframe tbody tr th:only-of-type {\n",
       "        vertical-align: middle;\n",
       "    }\n",
       "\n",
       "    .dataframe tbody tr th {\n",
       "        vertical-align: top;\n",
       "    }\n",
       "\n",
       "    .dataframe thead th {\n",
       "        text-align: right;\n",
       "    }\n",
       "</style>\n",
       "<table border=\"1\" class=\"dataframe\">\n",
       "  <thead>\n",
       "    <tr style=\"text-align: right;\">\n",
       "      <th></th>\n",
       "      <th>genhlth</th>\n",
       "      <th>exerany</th>\n",
       "      <th>hlthplan</th>\n",
       "      <th>smoke100</th>\n",
       "      <th>height</th>\n",
       "      <th>weight</th>\n",
       "      <th>wtdesire</th>\n",
       "      <th>age</th>\n",
       "      <th>gender</th>\n",
       "    </tr>\n",
       "  </thead>\n",
       "  <tbody>\n",
       "    <tr>\n",
       "      <th>0</th>\n",
       "      <td>good</td>\n",
       "      <td>0</td>\n",
       "      <td>1</td>\n",
       "      <td>0</td>\n",
       "      <td>70</td>\n",
       "      <td>175</td>\n",
       "      <td>175</td>\n",
       "      <td>77</td>\n",
       "      <td>m</td>\n",
       "    </tr>\n",
       "    <tr>\n",
       "      <th>1</th>\n",
       "      <td>good</td>\n",
       "      <td>0</td>\n",
       "      <td>1</td>\n",
       "      <td>1</td>\n",
       "      <td>64</td>\n",
       "      <td>125</td>\n",
       "      <td>115</td>\n",
       "      <td>33</td>\n",
       "      <td>f</td>\n",
       "    </tr>\n",
       "    <tr>\n",
       "      <th>2</th>\n",
       "      <td>good</td>\n",
       "      <td>1</td>\n",
       "      <td>1</td>\n",
       "      <td>1</td>\n",
       "      <td>60</td>\n",
       "      <td>105</td>\n",
       "      <td>105</td>\n",
       "      <td>49</td>\n",
       "      <td>f</td>\n",
       "    </tr>\n",
       "    <tr>\n",
       "      <th>3</th>\n",
       "      <td>good</td>\n",
       "      <td>1</td>\n",
       "      <td>1</td>\n",
       "      <td>0</td>\n",
       "      <td>66</td>\n",
       "      <td>132</td>\n",
       "      <td>124</td>\n",
       "      <td>42</td>\n",
       "      <td>f</td>\n",
       "    </tr>\n",
       "    <tr>\n",
       "      <th>4</th>\n",
       "      <td>very good</td>\n",
       "      <td>0</td>\n",
       "      <td>1</td>\n",
       "      <td>0</td>\n",
       "      <td>61</td>\n",
       "      <td>150</td>\n",
       "      <td>130</td>\n",
       "      <td>55</td>\n",
       "      <td>f</td>\n",
       "    </tr>\n",
       "    <tr>\n",
       "      <th>5</th>\n",
       "      <td>very good</td>\n",
       "      <td>1</td>\n",
       "      <td>1</td>\n",
       "      <td>0</td>\n",
       "      <td>64</td>\n",
       "      <td>114</td>\n",
       "      <td>114</td>\n",
       "      <td>55</td>\n",
       "      <td>f</td>\n",
       "    </tr>\n",
       "    <tr>\n",
       "      <th>6</th>\n",
       "      <td>very good</td>\n",
       "      <td>1</td>\n",
       "      <td>1</td>\n",
       "      <td>0</td>\n",
       "      <td>71</td>\n",
       "      <td>194</td>\n",
       "      <td>185</td>\n",
       "      <td>31</td>\n",
       "      <td>m</td>\n",
       "    </tr>\n",
       "    <tr>\n",
       "      <th>7</th>\n",
       "      <td>very good</td>\n",
       "      <td>0</td>\n",
       "      <td>1</td>\n",
       "      <td>0</td>\n",
       "      <td>67</td>\n",
       "      <td>170</td>\n",
       "      <td>160</td>\n",
       "      <td>45</td>\n",
       "      <td>m</td>\n",
       "    </tr>\n",
       "    <tr>\n",
       "      <th>8</th>\n",
       "      <td>good</td>\n",
       "      <td>0</td>\n",
       "      <td>1</td>\n",
       "      <td>1</td>\n",
       "      <td>65</td>\n",
       "      <td>150</td>\n",
       "      <td>130</td>\n",
       "      <td>27</td>\n",
       "      <td>f</td>\n",
       "    </tr>\n",
       "    <tr>\n",
       "      <th>9</th>\n",
       "      <td>good</td>\n",
       "      <td>1</td>\n",
       "      <td>1</td>\n",
       "      <td>0</td>\n",
       "      <td>70</td>\n",
       "      <td>180</td>\n",
       "      <td>170</td>\n",
       "      <td>44</td>\n",
       "      <td>m</td>\n",
       "    </tr>\n",
       "  </tbody>\n",
       "</table>\n",
       "</div>"
      ],
      "text/plain": [
       "     genhlth  exerany  hlthplan  smoke100  height  weight  wtdesire  age  \\\n",
       "0       good        0         1         0      70     175       175   77   \n",
       "1       good        0         1         1      64     125       115   33   \n",
       "2       good        1         1         1      60     105       105   49   \n",
       "3       good        1         1         0      66     132       124   42   \n",
       "4  very good        0         1         0      61     150       130   55   \n",
       "5  very good        1         1         0      64     114       114   55   \n",
       "6  very good        1         1         0      71     194       185   31   \n",
       "7  very good        0         1         0      67     170       160   45   \n",
       "8       good        0         1         1      65     150       130   27   \n",
       "9       good        1         1         0      70     180       170   44   \n",
       "\n",
       "  gender  \n",
       "0      m  \n",
       "1      f  \n",
       "2      f  \n",
       "3      f  \n",
       "4      f  \n",
       "5      f  \n",
       "6      m  \n",
       "7      m  \n",
       "8      f  \n",
       "9      m  "
      ]
     },
     "execution_count": 6,
     "metadata": {},
     "output_type": "execute_result"
    }
   ],
   "source": [
    "cdc_df = pd.read_csv(\"./cdc.csv\")\n",
    "cdc_df.head(10) # display the first 10 records"
   ]
  },
  {
   "cell_type": "markdown",
   "metadata": {},
   "source": [
    "## Basic data summary"
   ]
  },
  {
   "cell_type": "code",
   "execution_count": 7,
   "metadata": {
    "collapsed": false
   },
   "outputs": [
    {
     "data": {
      "text/plain": [
       "genhlth     object\n",
       "exerany      int64\n",
       "hlthplan     int64\n",
       "smoke100     int64\n",
       "height       int64\n",
       "weight       int64\n",
       "wtdesire     int64\n",
       "age          int64\n",
       "gender      object\n",
       "dtype: object"
      ]
     },
     "execution_count": 7,
     "metadata": {},
     "output_type": "execute_result"
    }
   ],
   "source": [
    "cdc_df.dtypes # automatically assigned data types"
   ]
  },
  {
   "cell_type": "code",
   "execution_count": 8,
   "metadata": {
    "collapsed": false
   },
   "outputs": [],
   "source": [
    "# correct data types for categorical variables\n",
    "cdc_df = cdc_df.astype(dict(genhlth = \"category\",\n",
    "                            exerany = \"category\",\n",
    "                            hlthplan = \"category\",\n",
    "                            smoke100 = \"category\",\n",
    "                            gender = \"category\"\n",
    "                           )\n",
    "                      )"
   ]
  },
  {
   "cell_type": "code",
   "execution_count": 9,
   "metadata": {
    "collapsed": false
   },
   "outputs": [
    {
     "data": {
      "text/plain": [
       "genhlth     category\n",
       "exerany     category\n",
       "hlthplan    category\n",
       "smoke100    category\n",
       "height         int64\n",
       "weight         int64\n",
       "wtdesire       int64\n",
       "age            int64\n",
       "gender      category\n",
       "dtype: object"
      ]
     },
     "execution_count": 9,
     "metadata": {},
     "output_type": "execute_result"
    }
   ],
   "source": [
    "cdc_df.dtypes"
   ]
  },
  {
   "cell_type": "code",
   "execution_count": 10,
   "metadata": {
    "collapsed": false
   },
   "outputs": [
    {
     "data": {
      "text/html": [
       "<div>\n",
       "<style scoped>\n",
       "    .dataframe tbody tr th:only-of-type {\n",
       "        vertical-align: middle;\n",
       "    }\n",
       "\n",
       "    .dataframe tbody tr th {\n",
       "        vertical-align: top;\n",
       "    }\n",
       "\n",
       "    .dataframe thead th {\n",
       "        text-align: right;\n",
       "    }\n",
       "</style>\n",
       "<table border=\"1\" class=\"dataframe\">\n",
       "  <thead>\n",
       "    <tr style=\"text-align: right;\">\n",
       "      <th></th>\n",
       "      <th>height</th>\n",
       "      <th>weight</th>\n",
       "      <th>wtdesire</th>\n",
       "      <th>age</th>\n",
       "    </tr>\n",
       "  </thead>\n",
       "  <tbody>\n",
       "    <tr>\n",
       "      <th>count</th>\n",
       "      <td>20000.000000</td>\n",
       "      <td>20000.00000</td>\n",
       "      <td>20000.000000</td>\n",
       "      <td>20000.000000</td>\n",
       "    </tr>\n",
       "    <tr>\n",
       "      <th>mean</th>\n",
       "      <td>67.182900</td>\n",
       "      <td>169.68295</td>\n",
       "      <td>155.093850</td>\n",
       "      <td>45.068250</td>\n",
       "    </tr>\n",
       "    <tr>\n",
       "      <th>std</th>\n",
       "      <td>4.125954</td>\n",
       "      <td>40.08097</td>\n",
       "      <td>32.013306</td>\n",
       "      <td>17.192689</td>\n",
       "    </tr>\n",
       "    <tr>\n",
       "      <th>min</th>\n",
       "      <td>48.000000</td>\n",
       "      <td>68.00000</td>\n",
       "      <td>68.000000</td>\n",
       "      <td>18.000000</td>\n",
       "    </tr>\n",
       "    <tr>\n",
       "      <th>25%</th>\n",
       "      <td>64.000000</td>\n",
       "      <td>140.00000</td>\n",
       "      <td>130.000000</td>\n",
       "      <td>31.000000</td>\n",
       "    </tr>\n",
       "    <tr>\n",
       "      <th>50%</th>\n",
       "      <td>67.000000</td>\n",
       "      <td>165.00000</td>\n",
       "      <td>150.000000</td>\n",
       "      <td>43.000000</td>\n",
       "    </tr>\n",
       "    <tr>\n",
       "      <th>75%</th>\n",
       "      <td>70.000000</td>\n",
       "      <td>190.00000</td>\n",
       "      <td>175.000000</td>\n",
       "      <td>57.000000</td>\n",
       "    </tr>\n",
       "    <tr>\n",
       "      <th>max</th>\n",
       "      <td>93.000000</td>\n",
       "      <td>500.00000</td>\n",
       "      <td>680.000000</td>\n",
       "      <td>99.000000</td>\n",
       "    </tr>\n",
       "  </tbody>\n",
       "</table>\n",
       "</div>"
      ],
      "text/plain": [
       "             height       weight      wtdesire           age\n",
       "count  20000.000000  20000.00000  20000.000000  20000.000000\n",
       "mean      67.182900    169.68295    155.093850     45.068250\n",
       "std        4.125954     40.08097     32.013306     17.192689\n",
       "min       48.000000     68.00000     68.000000     18.000000\n",
       "25%       64.000000    140.00000    130.000000     31.000000\n",
       "50%       67.000000    165.00000    150.000000     43.000000\n",
       "75%       70.000000    190.00000    175.000000     57.000000\n",
       "max       93.000000    500.00000    680.000000     99.000000"
      ]
     },
     "execution_count": 10,
     "metadata": {},
     "output_type": "execute_result"
    }
   ],
   "source": [
    "# describe will return descriptive stats for numerical variables\n",
    "cdc_df.describe()"
   ]
  },
  {
   "cell_type": "code",
   "execution_count": 16,
   "metadata": {},
   "outputs": [
    {
     "data": {
      "text/plain": [
       "very good    6972\n",
       "good         5675\n",
       "excellent    4657\n",
       "fair         2019\n",
       "poor          677\n",
       "Name: genhlth, dtype: int64"
      ]
     },
     "execution_count": 16,
     "metadata": {},
     "output_type": "execute_result"
    }
   ],
   "source": [
    "# we can get frequency and relative frequency for specific variables as well\n",
    "cdc_df[\"genhlth\"].value_counts()"
   ]
  },
  {
   "cell_type": "code",
   "execution_count": 18,
   "metadata": {},
   "outputs": [
    {
     "data": {
      "text/plain": [
       "20000"
      ]
     },
     "execution_count": 18,
     "metadata": {},
     "output_type": "execute_result"
    }
   ],
   "source": [
    "len(cdc_df)"
   ]
  },
  {
   "cell_type": "code",
   "execution_count": 23,
   "metadata": {},
   "outputs": [
    {
     "data": {
      "text/plain": [
       "(20000, 9)"
      ]
     },
     "execution_count": 23,
     "metadata": {},
     "output_type": "execute_result"
    }
   ],
   "source": [
    "cdc_df.shape"
   ]
  },
  {
   "cell_type": "markdown",
   "metadata": {},
   "source": [
    "**Note how the above code reflects our goal to *be reproducible*! We make explicit comments and include all code necessary to generate the output that we need for our discussion.** This will become more important as our analyses become more complex. \n",
    "- More complicated work also introduces new issues of reproducibility, like setting the seed for Python's random number generator, and keeping track of what version of a particular library or OS your are using. \n",
    "- These issues will be incredibly important should you continue to do numerical computing for courses, and especially research."
   ]
  },
  {
   "cell_type": "markdown",
   "metadata": {},
   "source": [
    "## Writing a function"
   ]
  },
  {
   "cell_type": "markdown",
   "metadata": {},
   "source": [
    "Remember that if you are going to be doing a task repeatedly in a script, you should always start thinking about modular programming. This makes your code much more readable and may help cut down on mistakes when you inevitably need to modify your code. Below is a fairly contrived example, but it should serve to remind you of a few key concepts:\n",
    "- function name should be brief and meaningful\n",
    "- always include a docstring that describes the purpose of your function, inputs, and outputs\n",
    "- never forget about data validation and error handling"
   ]
  },
  {
   "cell_type": "code",
   "execution_count": 11,
   "metadata": {},
   "outputs": [],
   "source": [
    "def corr_fun(x, y):\n",
    "    \"\"\"\n",
    "    This is a sample function to demonstrate the idea of modular programming in statistics.\n",
    "    It takes two arrays of type int64 and calculates the correlation coefficient between them. \n",
    "    It returns corr(x,y) as a scalar, or an error message if inputs fail the data validation steps.\n",
    "    \"\"\"\n",
    "    \n",
    "    # use numpy library version of correlation coefficient\n",
    "    import numpy as np\n",
    "    \n",
    "    # check input type - corr not defined for categorical vars\n",
    "    if x.dtype == \"int64\" and y.dtype == \"int64\":\n",
    "        return np.corrcoef(x, y)[0,1] # return only var, not complete cov matrix\n",
    "    else:\n",
    "        return \"Error: at least one input was not of type int64\""
   ]
  },
  {
   "cell_type": "code",
   "execution_count": 12,
   "metadata": {
    "collapsed": false
   },
   "outputs": [
    {
     "data": {
      "text/plain": [
       "0.5553221916098966"
      ]
     },
     "execution_count": 12,
     "metadata": {},
     "output_type": "execute_result"
    }
   ],
   "source": [
    "# good call to function\n",
    "corr_fun(cdc_df.weight, cdc_df.height)"
   ]
  },
  {
   "cell_type": "code",
   "execution_count": 13,
   "metadata": {
    "collapsed": false
   },
   "outputs": [
    {
     "data": {
      "text/plain": [
       "'Error: at least one input was not of type int64'"
      ]
     },
     "execution_count": 13,
     "metadata": {},
     "output_type": "execute_result"
    }
   ],
   "source": [
    "# bad call to function\n",
    "corr_fun(cdc_df.smoke100, cdc_df.height)"
   ]
  },
  {
   "cell_type": "markdown",
   "metadata": {},
   "source": [
    "## A quick overview of Markdown"
   ]
  },
  {
   "cell_type": "markdown",
   "metadata": {},
   "source": [
    "### Headings"
   ]
  },
  {
   "cell_type": "markdown",
   "metadata": {},
   "source": []
  },
  {
   "cell_type": "markdown",
   "metadata": {},
   "source": [
    "### Plain Text"
   ]
  },
  {
   "cell_type": "markdown",
   "metadata": {},
   "source": [
    "Lorem ipsum...\n",
    "\n",
    "- **bold text**\n",
    "- *italic text*"
   ]
  },
  {
   "cell_type": "markdown",
   "metadata": {},
   "source": [
    "### Latex-style math "
   ]
  },
  {
   "cell_type": "markdown",
   "metadata": {},
   "source": [
    "- **In-line equations:** $y = x^2 + 2x + 3$\n",
    "- **Centered, multi-line equations:**\n",
    "$$\n",
    "\\Sigma_{j=1}^{n} x_{j}^2 \\\\\n",
    "\\frac{1}{n}\\Sigma_{j=1}^{n} x_j\n",
    "$$"
   ]
  },
  {
   "cell_type": "markdown",
   "metadata": {},
   "source": [
    "### Basic tables"
   ]
  },
  {
   "cell_type": "markdown",
   "metadata": {},
   "source": [
    "Header 1 | Header 2 | Header 3 \n",
    "--------:| --------:| -------:\n",
    "123 | 456 | 789\n",
    "123 | 456 | 789\n",
    "123 | 456 | 789\n",
    "123 | 456 | 789"
   ]
  },
  {
   "cell_type": "markdown",
   "metadata": {},
   "source": [
    "Header 1 | Header 2 | Header 3 \n",
    "-------- | -------- | -------\n",
    "123 | 456 | 789\n",
    "123 | 456 | 789\n",
    "123 | 456 | 789\n",
    "123 | 456 | 789"
   ]
  },
  {
   "cell_type": "markdown",
   "metadata": {},
   "source": [
    "## References\n",
    "\n",
    "VanderPlas, J. (2016). *Python Data Science Handbook*. Retrieved from: https://jakevdp.github.io/PythonDataScienceHandbook/."
   ]
  }
 ],
 "metadata": {
  "kernelspec": {
   "display_name": "Python 3",
   "language": "python",
   "name": "python3"
  },
  "language_info": {
   "codemirror_mode": {
    "name": "ipython",
    "version": 3
   },
   "file_extension": ".py",
   "mimetype": "text/x-python",
   "name": "python",
   "nbconvert_exporter": "python",
   "pygments_lexer": "ipython3",
   "version": "3.7.3"
  }
 },
 "nbformat": 4,
 "nbformat_minor": 2
}
