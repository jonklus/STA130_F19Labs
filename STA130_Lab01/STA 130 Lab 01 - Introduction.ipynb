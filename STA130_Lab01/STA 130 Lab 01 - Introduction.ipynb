{
 "cells": [
  {
   "cell_type": "markdown",
   "metadata": {},
   "source": [
    "# STA 130 Lab 1\n",
    "*Your Name Here*"
   ]
  },
  {
   "cell_type": "markdown",
   "metadata": {},
   "source": [
    "## Goals\n",
    "Today's lab will consist of an introduction to Python and some of its scientific computing libraries. Since most students in STA 130 should already be familiar with Python, this will be a brief refresher, as well as an introduction to Jupyter notebooks and reproducible research."
   ]
  },
  {
   "cell_type": "markdown",
   "metadata": {},
   "source": [
    "## A brief foray into Microsoft Excel\n",
    "\n",
    "- The popular spreadsheet software is very common in finance, consulting, and even some engineering firms. \n",
    "- Can be helpful for quick calculations, but it is not reproducible and formulas are prone to error and even unintended changes if not properly protected.\n",
    "- Many data repositories, especially those run by the federal government, still provide data downloads in the form of .xls, .xslx, or the simpler .csv file format. \n",
    "- We will download some data in Excel and demonstrate some basic data manipulation in Python."
   ]
  },
  {
   "cell_type": "markdown",
   "metadata": {},
   "source": [
    "## Getting data\n",
    "- The UCI Machine Learning Repository is a large collection of data sets (of varying vintages) that are in the public domain.\n",
    "- Many government website also provide raw data in various formats.\n",
    "- We will examine some data from the CDC that is available at https://www.openintro.org/stat/data/?data=cdc"
   ]
  },
  {
   "cell_type": "code",
   "execution_count": null,
   "metadata": {
    "collapsed": true
   },
   "outputs": [],
   "source": []
  },
  {
   "cell_type": "markdown",
   "metadata": {},
   "source": [
    "- Download the data by clicking the yellow \"CSV Download\" button\n",
    "- First open the file using Microsoft Excel. We'll explore `Text to Columns`, write a quick formula, and make a graphic.\n",
    "    - **Note**: Excel is not reproducible and **should not** be used as a data analysis tool for research. It can also be troublesome as a data entry tool, since it tries to be helpful by automatically converting data types. These changes often cannot be undone.\n",
    "    - It is more prudent to save data in plain-text format (e.g. as a .csv file) and handle any data cleaning and analysis tasks in software like R or Python. \n",
    "    - Statistical software gives you more control and makes it much more difficult to overwrite your source data. It is also reproducible, since your well-commented script is an outline of each step that you took from the moment that you began working with the data. \n",
    "- Now upload to your Docker container on the OIT server and read into your Jupyter notebook using `read_csv` from the `pandas` library."
   ]
  },
  {
   "cell_type": "code",
   "execution_count": null,
   "metadata": {
    "collapsed": false
   },
   "outputs": [],
   "source": []
  },
  {
   "cell_type": "markdown",
   "metadata": {},
   "source": [
    "## Basic data summary"
   ]
  },
  {
   "cell_type": "code",
   "execution_count": null,
   "metadata": {
    "collapsed": false
   },
   "outputs": [],
   "source": []
  },
  {
   "cell_type": "raw",
   "metadata": {},
   "source": []
  },
  {
   "cell_type": "code",
   "execution_count": null,
   "metadata": {
    "collapsed": false
   },
   "outputs": [],
   "source": []
  },
  {
   "cell_type": "code",
   "execution_count": null,
   "metadata": {
    "collapsed": false
   },
   "outputs": [],
   "source": []
  },
  {
   "cell_type": "code",
   "execution_count": null,
   "metadata": {
    "collapsed": false
   },
   "outputs": [],
   "source": []
  },
  {
   "cell_type": "code",
   "execution_count": null,
   "metadata": {},
   "outputs": [],
   "source": []
  },
  {
   "cell_type": "code",
   "execution_count": null,
   "metadata": {},
   "outputs": [],
   "source": []
  },
  {
   "cell_type": "code",
   "execution_count": null,
   "metadata": {},
   "outputs": [],
   "source": []
  },
  {
   "cell_type": "code",
   "execution_count": null,
   "metadata": {},
   "outputs": [],
   "source": []
  },
  {
   "cell_type": "code",
   "execution_count": null,
   "metadata": {},
   "outputs": [],
   "source": []
  },
  {
   "cell_type": "markdown",
   "metadata": {},
   "source": [
    "**Note how the above code reflects our goal to *be reproducible*! We make explicit comments and include all code necessary to generate the output that we need for our discussion.** This will become more important as our analyses become more complex. \n",
    "- More complicated work also introduces new issues of reproducibility, like setting the seed for Python's random number generator, and keeping track of what version of a particular library or OS your are using. \n",
    "- These issues will be incredibly important should you continue to do numerical computing for courses, and especially research."
   ]
  },
  {
   "cell_type": "markdown",
   "metadata": {},
   "source": [
    "## Writing a function"
   ]
  },
  {
   "cell_type": "markdown",
   "metadata": {},
   "source": [
    "Remember that if you are going to be doing a task repeatedly in a script, you should always start thinking about modular programming. This makes your code much more readable and may help cut down on mistakes when you inevitably need to modify your code. Below is a fairly contrived example, but it should serve to remind you of a few key concepts:\n",
    "- function name should be brief and meaningful\n",
    "- always include a docstring that describes the purpose of your function, inputs, and outputs\n",
    "- never forget about data validation and error handling"
   ]
  },
  {
   "cell_type": "code",
   "execution_count": null,
   "metadata": {},
   "outputs": [],
   "source": []
  },
  {
   "cell_type": "code",
   "execution_count": null,
   "metadata": {
    "collapsed": false
   },
   "outputs": [],
   "source": []
  },
  {
   "cell_type": "code",
   "execution_count": null,
   "metadata": {
    "collapsed": false
   },
   "outputs": [],
   "source": []
  },
  {
   "cell_type": "markdown",
   "metadata": {},
   "source": [
    "## A quick overview of Markdown"
   ]
  },
  {
   "cell_type": "markdown",
   "metadata": {},
   "source": [
    "### Headings"
   ]
  },
  {
   "cell_type": "markdown",
   "metadata": {},
   "source": []
  },
  {
   "cell_type": "markdown",
   "metadata": {},
   "source": [
    "### Plain Text"
   ]
  },
  {
   "cell_type": "markdown",
   "metadata": {},
   "source": [
    "Lorem ipsum...\n",
    "\n",
    "- **bold text**\n",
    "- *italic text*"
   ]
  },
  {
   "cell_type": "markdown",
   "metadata": {},
   "source": [
    "### Latex-style math "
   ]
  },
  {
   "cell_type": "markdown",
   "metadata": {},
   "source": [
    "- **In-line equations:** $y = x^2 + 2x + 3$\n",
    "- **Centered, multi-line equations:**\n",
    "$$\n",
    "\\Sigma_{j=1}^{n} x_{j}^2 \\\\\n",
    "\\frac{1}{n}\\Sigma_{j=1}^{n} x_j\n",
    "$$"
   ]
  },
  {
   "cell_type": "markdown",
   "metadata": {},
   "source": [
    "### Basic tables"
   ]
  },
  {
   "cell_type": "markdown",
   "metadata": {},
   "source": [
    "Header 1 | Header 2 | Header 3 \n",
    "--------:| --------:| -------:\n",
    "123 | 456 | 789\n",
    "123 | 456 | 789\n",
    "123 | 456 | 789\n",
    "123 | 456 | 789"
   ]
  },
  {
   "cell_type": "markdown",
   "metadata": {},
   "source": [
    "Header 1 | Header 2 | Header 3 \n",
    "-------- | -------- | -------\n",
    "123 | 456 | 789\n",
    "123 | 456 | 789\n",
    "123 | 456 | 789\n",
    "123 | 456 | 789"
   ]
  },
  {
   "cell_type": "markdown",
   "metadata": {},
   "source": [
    "## Assignment\n",
    "\n",
    "1. Show a summary table for one categorical and one numerical variable from the CDC data set . Write a few sentences of commentary.\n",
    "2. Write a function to calculate the correlation coefficient for two numeric variables. Load all required libraries, include a docstring and comments, and include some basic data validation."
   ]
  },
  {
   "cell_type": "markdown",
   "metadata": {},
   "source": [
    "## References\n",
    "\n",
    "VanderPlas, J. (2016). *Python Data Science Handbook*. Retrieved from: https://jakevdp.github.io/PythonDataScienceHandbook/."
   ]
  }
 ],
 "metadata": {
  "kernelspec": {
   "display_name": "Python 3",
   "language": "python",
   "name": "python3"
  },
  "language_info": {
   "codemirror_mode": {
    "name": "ipython",
    "version": 3
   },
   "file_extension": ".py",
   "mimetype": "text/x-python",
   "name": "python",
   "nbconvert_exporter": "python",
   "pygments_lexer": "ipython3",
   "version": "3.7.3"
  }
 },
 "nbformat": 4,
 "nbformat_minor": 2
}
