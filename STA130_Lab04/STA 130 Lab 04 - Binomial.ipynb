{
 "cells": [
  {
   "cell_type": "markdown",
   "metadata": {},
   "source": [
    "# STA 130 Lab 4 - The Binomial Distribution\n",
    "*Your Name Here*"
   ]
  },
  {
   "cell_type": "markdown",
   "metadata": {},
   "source": [
    "## Lucky Dice"
   ]
  },
  {
   "cell_type": "markdown",
   "metadata": {},
   "source": [
    "The game of Lucky Dice is played with three dice.  Each person picks an integer 1 to 6, and\n",
    "bets one fake dollar.  The house (your TA) rolls the three dice, and your payoff is based on\n",
    "how many times your number is matched on the dice.  For zero matches, the house keeps the\n",
    "dollar.  For exactly one match, you get your dollar back plus another dollar.  For exactly two\n",
    "matches, you get your dollar back plus two dollars profit, and for all three matches, you get\n",
    "your dollar plus three dollars profit."
   ]
  },
  {
   "cell_type": "markdown",
   "metadata": {},
   "source": [
    "Your whole lab section will now play a round of lucky dice.  Everyone pick an integer\n",
    "from the set 1, 2, 3, 4, 5, 6.  What is the theoretical probability of exactly one die matching\n",
    "your particular chosen number?"
   ]
  },
  {
   "cell_type": "markdown",
   "metadata": {},
   "source": [
    "<span style=\"color:red\">\n",
    "Your answer."
   ]
  },
  {
   "cell_type": "markdown",
   "metadata": {},
   "source": [
    "Your  TA  will  roll  the  three  dice  and  announce  the  numbers.   Count  your  number  of\n",
    "matches.  \n",
    "\n",
    "Let $X =$ number of matches and $Y =$ profit per game.  Theoretically, what is the distribution of $X$ ?  What are the parameter values?"
   ]
  },
  {
   "cell_type": "markdown",
   "metadata": {},
   "source": [
    "<span style=\"color:red\">\n",
    "Your answer."
   ]
  },
  {
   "cell_type": "markdown",
   "metadata": {},
   "source": [
    "The matches from the whole class will be tallied up for the following individual\n",
    "work.  Start by completing this table:"
   ]
  },
  {
   "cell_type": "markdown",
   "metadata": {},
   "source": [
    "x  | y  | Frequency | Relative frequency\n",
    "-- | --: | --------- | ------------------\n",
    "0  | -1  |           |\n",
    "1  |  1  |           |\n",
    "2  |  2  |           |\n",
    "3  |  3  |           |"
   ]
  },
  {
   "cell_type": "markdown",
   "metadata": {},
   "source": [
    "Let $m$ be the match data for the whole class (a vector of 0’s, 1’s, 2’s, and 3’s), and $p$ be\n",
    "the corresponding profits.  Calculate the following, and explain what each means in words:\n",
    "\n",
    "1) $\\bar{m} =$\n",
    "\n",
    "2) $s_m =$\n",
    "\n",
    "3) $\\bar{p} = $\n",
    "\n",
    "4) $s_p = $"
   ]
  },
  {
   "cell_type": "markdown",
   "metadata": {},
   "source": [
    "## Theoretical distribution"
   ]
  },
  {
   "cell_type": "markdown",
   "metadata": {},
   "source": [
    "Build  the  theoretical  PMF  chart  for X and Y based  upon  your  answer  to  the  very  first question. Do the outcomes sum to 1.0? Should they?\n",
    "\n",
    "$x$  | $y$  | $p(x)$\n",
    "--- | ---: | ------------------ \n",
    "0  |  -1  |           \n",
    "1  |   1  |           \n",
    "2  |   2  |           \n",
    "3  |   3  |           \n"
   ]
  },
  {
   "cell_type": "markdown",
   "metadata": {},
   "source": [
    "Construct a graphical representation of this PMF"
   ]
  },
  {
   "cell_type": "code",
   "execution_count": null,
   "metadata": {
    "collapsed": true
   },
   "outputs": [],
   "source": []
  },
  {
   "cell_type": "code",
   "execution_count": null,
   "metadata": {},
   "outputs": [],
   "source": []
  },
  {
   "cell_type": "code",
   "execution_count": null,
   "metadata": {
    "collapsed": true
   },
   "outputs": [],
   "source": []
  },
  {
   "cell_type": "markdown",
   "metadata": {},
   "source": [
    "Using the moments of this distribution, calculate the following, and explain what each\n",
    "means in words:\n",
    "\n",
    "1) $\\mu_x = $\n",
    "\n",
    "2) $\\sigma_x = $\n",
    "\n",
    "3) $\\mu_y = $\n",
    "\n",
    "4) $\\sigma_y = $"
   ]
  },
  {
   "cell_type": "markdown",
   "metadata": {},
   "source": [
    "## Discussion\n",
    "\n",
    "Briefly discuss the following:\n",
    "\n",
    "1.  Describe three ways that the theoretical and sample distributions and/or graphs are similar.\n",
    "\n",
    "2.  Describe three significant differences between the theoretical and sample distributions and/or graphs.\n",
    "\n",
    "3.  Does it appear that the data follow the theoretical distribution?  Why or why not?\n",
    "\n",
    "4.  Suppose we repeat this “experiment” 1000 times (that is,  play 1000 games of lucky dice and record the matches).  Which table (the data or theoretical) would change? Why?  How would it change?"
   ]
  },
  {
   "cell_type": "markdown",
   "metadata": {},
   "source": [
    "## Simulate Lucky Dice"
   ]
  },
  {
   "cell_type": "markdown",
   "metadata": {},
   "source": [
    "Write a quick code chunk to simulate 1000 games of Lucky Dice and record the matches.\n",
    "Plot the histogram of these 1000 match values.  Does it match\n",
    "your expected changes from this last question?"
   ]
  },
  {
   "cell_type": "code",
   "execution_count": null,
   "metadata": {
    "collapsed": false
   },
   "outputs": [],
   "source": []
  },
  {
   "cell_type": "code",
   "execution_count": null,
   "metadata": {
    "collapsed": false
   },
   "outputs": [],
   "source": []
  },
  {
   "cell_type": "markdown",
   "metadata": {},
   "source": [
    "## Finding the variance empirically"
   ]
  },
  {
   "cell_type": "markdown",
   "metadata": {},
   "source": [
    "In class, we derived the expectation by hand, but did not discuss how to calculate the variance. We can use Monte Carlo methods to estimate the variance. Write a simulation to estimate the variance of the random variable Y from Lucky Dice.\n",
    "\n",
    "- First, generate a large number of values (random draws)  from  the  distribution  of $Y$,  then  calculate  the  corresponding $y$ for  each  of  these values, and finally calculate the observed variance of $Y$.  \n",
    "- Similarly, you can get estimates for  the  expectation $E[Y]$ by calculating the observed mean. \n",
    "- Write  a  properly formatted function (readable with docstring and comments)  to  calculate the empirical mean and variance. Run the simulation for different  numbers  of random draws (e.g. 100, 1000, 10000, 100000). Describe your findings."
   ]
  },
  {
   "cell_type": "code",
   "execution_count": null,
   "metadata": {},
   "outputs": [],
   "source": []
  },
  {
   "cell_type": "code",
   "execution_count": null,
   "metadata": {},
   "outputs": [],
   "source": []
  }
 ],
 "metadata": {
  "kernelspec": {
   "display_name": "Python 3",
   "language": "python",
   "name": "python3"
  },
  "language_info": {
   "codemirror_mode": {
    "name": "ipython",
    "version": 3
   },
   "file_extension": ".py",
   "mimetype": "text/x-python",
   "name": "python",
   "nbconvert_exporter": "python",
   "pygments_lexer": "ipython3",
   "version": "3.7.3"
  }
 },
 "nbformat": 4,
 "nbformat_minor": 2
}
