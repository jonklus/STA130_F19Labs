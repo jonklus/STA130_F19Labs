{
 "cells": [
  {
   "cell_type": "markdown",
   "metadata": {},
   "source": [
    "# STA 130 Lab 4 - The Binomial Distribution\n",
    "*Your Name Here*"
   ]
  },
  {
   "cell_type": "markdown",
   "metadata": {},
   "source": [
    "## Lucky Dice"
   ]
  },
  {
   "cell_type": "markdown",
   "metadata": {},
   "source": [
    "The game of Lucky Dice is played with three dice.  Each person picks an integer 1 to 6, and\n",
    "bets one fake dollar.  The house (your TA) rolls the three dice, and your payoff is based on\n",
    "how many times your number is matched on the dice.  For zero matches, the house keeps the\n",
    "dollar.  For exactly one match, you get your dollar back plus another dollar.  For exactly two\n",
    "matches, you get your dollar back plus two dollars profit, and for all three matches, you get\n",
    "your dollar plus three dollars profit."
   ]
  },
  {
   "cell_type": "markdown",
   "metadata": {},
   "source": [
    "Your whole lab section will now play a round of lucky dice.  Everyone pick an integer\n",
    "from the set 1, 2, 3, 4, 5, 6.  What is the theoretical probability of exactly one die matching\n",
    "your particular chosen number?"
   ]
  },
  {
   "cell_type": "markdown",
   "metadata": {},
   "source": [
    "<span style=\"color:red\">\n",
    "${3 \\choose 1}\\left(\\frac{1}{6}\\right)\\left(1 - \\frac{1}{6}\\right)^2$"
   ]
  },
  {
   "cell_type": "markdown",
   "metadata": {},
   "source": [
    "Your  TA  will  roll  the  three  dice  and  announce  the  numbers.   Count  your  number  of\n",
    "matches.  \n",
    "\n",
    "Let $X =$ number of matches and $Y =$ profit per game.  Theoretically, what is the distribution of $X$ ?  What are the parameter values?"
   ]
  },
  {
   "cell_type": "markdown",
   "metadata": {},
   "source": [
    "<span style=\"color:red\">\n",
    "$X \\sim Binom(n = 3 , p = \\frac{1}{6})$\n",
    "where $n$ is the number of trials and $p$ is the probability of success in a given trial. "
   ]
  },
  {
   "cell_type": "markdown",
   "metadata": {},
   "source": [
    "The matches from the whole class will be tallied up for the following individual\n",
    "work.  Start by completing this table:"
   ]
  },
  {
   "cell_type": "markdown",
   "metadata": {},
   "source": [
    "x  | y  | Frequency | Relative frequency\n",
    "-- | --: | --------- | ------------------\n",
    "0  | -1  |           |\n",
    "1  |  1  |           |\n",
    "2  |  2  |           |\n",
    "3  |  3  |           |"
   ]
  },
  {
   "cell_type": "markdown",
   "metadata": {},
   "source": [
    "Let $m$ be the match data for the whole class (a vector of 0’s, 1’s, 2’s, and 3’s), and $p$ be\n",
    "the corresponding profits.  Calculate the following, and explain what each means in words:\n",
    "\n",
    "1) $\\bar{m} =$\n",
    "\n",
    "2) $s_m =$\n",
    "\n",
    "3) $\\bar{p} = $\n",
    "\n",
    "4) $s_p = $"
   ]
  },
  {
   "cell_type": "markdown",
   "metadata": {},
   "source": [
    "## Theoretical distribution"
   ]
  },
  {
   "cell_type": "markdown",
   "metadata": {},
   "source": [
    "Build  the  theoretical  PMF  chart  for X and Y based  upon  your  answer  to  the  very  first question. Do the outcomes sum to 1.0? Should they?\n",
    "\n",
    "$x$  | $y$  | $p(x)$\n",
    "--- | ---: | ------------------ \n",
    "0  |  -1  |           \n",
    "1  |   1  |           \n",
    "2  |   2  |           \n",
    "3  |   3  |           \n"
   ]
  },
  {
   "cell_type": "markdown",
   "metadata": {},
   "source": [
    "Construct a graphical representation of this PMF"
   ]
  },
  {
   "cell_type": "code",
   "execution_count": 24,
   "metadata": {
    "collapsed": true
   },
   "outputs": [],
   "source": [
    "import numpy as np\n",
    "import seaborn as sns\n",
    "import pandas as pd"
   ]
  },
  {
   "cell_type": "code",
   "execution_count": 102,
   "metadata": {},
   "outputs": [
    {
     "data": {
      "image/png": "[encoded data removed]",
      "text/plain": [
       "<Figure size 432x288 with 1 Axes>"
      ]
     },
     "metadata": {
      "needs_background": "light"
     },
     "output_type": "display_data"
    }
   ],
   "source": [
    "theoretical_pmf = pd.DataFrame(index = [0,1,2,3],\n",
    "                               data = {\"Density\":[0.579, 0.347, 0.069, 0.005]}\n",
    "                              )\n",
    "sns.barplot(x = theoretical_pmf.index.values, y = theoretical_pmf[\"Density\"], color = \"lightblue\")\n",
    "plt.title(\"Distribution of PMF\")\n",
    "plt.xlabel(\"Outcome\")\n",
    "plt.ylabel(\"Probability Mass\")\n",
    "pass"
   ]
  },
  {
   "cell_type": "code",
   "execution_count": 12,
   "metadata": {
    "collapsed": true
   },
   "outputs": [],
   "source": [
    "import numpy as np\n",
    "import scipy.stats as stats"
   ]
  },
  {
   "cell_type": "code",
   "execution_count": 17,
   "metadata": {},
   "outputs": [
    {
     "data": {
      "text/plain": [
       "0.34722222222222215"
      ]
     },
     "execution_count": 17,
     "metadata": {},
     "output_type": "execute_result"
    }
   ],
   "source": [
    "stats.binom.pmf(k = 1, n = 3, p= 1/6)"
   ]
  },
  {
   "cell_type": "markdown",
   "metadata": {},
   "source": [
    "Using the moments of this distribution, calculate the following, and explain what each\n",
    "means in words:\n",
    "\n",
    "1) $\\mu_x = $\n",
    "\n",
    "2) $\\sigma_x = $\n",
    "\n",
    "3) $\\mu_y = $\n",
    "\n",
    "4) $\\sigma_y = $"
   ]
  },
  {
   "cell_type": "markdown",
   "metadata": {},
   "source": [
    "## Discussion\n",
    "\n",
    "Briefly discuss the following:\n",
    "\n",
    "1.  Describe three ways that the theoretical and sample distributions and/or graphs are similar.\n",
    "\n",
    "2.  Describe three significant differences between the theoretical and sample distributions and/or graphs.\n",
    "\n",
    "3.  Does it appear that the data follow the theoretical distribution?  Why or why not?\n",
    "\n",
    "4.  Suppose we repeat this “experiment” 1000 times (that is,  play 1000 games of lucky dice and record the matches).  Which table (the data or theoretical) would change? Why?  How would it change?"
   ]
  },
  {
   "cell_type": "markdown",
   "metadata": {},
   "source": [
    "## Simulate Lucky Dice"
   ]
  },
  {
   "cell_type": "markdown",
   "metadata": {},
   "source": [
    "Write a quick code chunk to simulate 1000 games of Lucky Dice and record the matches.\n",
    "Plot the histogram of these 1000 match values.  Does it match\n",
    "your expected changes from this last question?"
   ]
  },
  {
   "cell_type": "code",
   "execution_count": 46,
   "metadata": {
    "collapsed": false
   },
   "outputs": [],
   "source": [
    "# using the theoretical probability of each outcome\n",
    "np.random.seed(12)\n",
    "lucky_dice = np.random.multinomial(1000, \n",
    "                                   (scipy.special.comb(3,0)*(1-1/6)**3,\n",
    "                                    scipy.special.comb(3,1)*(1/6)*(5/6)**2, \n",
    "                                    scipy.special.comb(3,2)*(5/6)*(1/6)**2, \n",
    "                                    scipy.special.comb(3,3)*(1/6)**3\n",
    "                                   )\n",
    "                                  )"
   ]
  },
  {
   "cell_type": "code",
   "execution_count": 47,
   "metadata": {
    "collapsed": false
   },
   "outputs": [
    {
     "data": {
      "text/plain": [
       "array([[  0, 595],\n",
       "       [  1, 334],\n",
       "       [  2,  70],\n",
       "       [  3,   1]])"
      ]
     },
     "execution_count": 47,
     "metadata": {},
     "output_type": "execute_result"
    }
   ],
   "source": [
    "outcome_table = np.array([[0,1,2,3],lucky_dice]).T\n",
    "outcome_table"
   ]
  },
  {
   "cell_type": "code",
   "execution_count": 59,
   "metadata": {},
   "outputs": [
    {
     "data": {
      "text/html": [
       "<div>\n",
       "<style scoped>\n",
       "    .dataframe tbody tr th:only-of-type {\n",
       "        vertical-align: middle;\n",
       "    }\n",
       "\n",
       "    .dataframe tbody tr th {\n",
       "        vertical-align: top;\n",
       "    }\n",
       "\n",
       "    .dataframe thead th {\n",
       "        text-align: right;\n",
       "    }\n",
       "</style>\n",
       "<table border=\"1\" class=\"dataframe\">\n",
       "  <thead>\n",
       "    <tr style=\"text-align: right;\">\n",
       "      <th></th>\n",
       "      <th>Empirical Prob</th>\n",
       "    </tr>\n",
       "  </thead>\n",
       "  <tbody>\n",
       "    <tr>\n",
       "      <th>0</th>\n",
       "      <td>0.595</td>\n",
       "    </tr>\n",
       "    <tr>\n",
       "      <th>1</th>\n",
       "      <td>0.334</td>\n",
       "    </tr>\n",
       "    <tr>\n",
       "      <th>2</th>\n",
       "      <td>0.070</td>\n",
       "    </tr>\n",
       "    <tr>\n",
       "      <th>3</th>\n",
       "      <td>0.001</td>\n",
       "    </tr>\n",
       "  </tbody>\n",
       "</table>\n",
       "</div>"
      ],
      "text/plain": [
       "   Empirical Prob\n",
       "0           0.595\n",
       "1           0.334\n",
       "2           0.070\n",
       "3           0.001"
      ]
     },
     "execution_count": 59,
     "metadata": {},
     "output_type": "execute_result"
    }
   ],
   "source": [
    "outcome_prop = pd.DataFrame(index = outcome_table[:,0], \n",
    "                            data = outcome_table[:,1]/np.sum(outcome_table[:,1]),\n",
    "                            columns = [\"Empirical Prob\"]\n",
    "                           )\n",
    "outcome_prop"
   ]
  },
  {
   "cell_type": "code",
   "execution_count": 48,
   "metadata": {},
   "outputs": [
    {
     "data": {
      "image/png": "[encoded data removed]",
      "text/plain": [
       "<Figure size 432x288 with 1 Axes>"
      ]
     },
     "metadata": {
      "needs_background": "light"
     },
     "output_type": "display_data"
    }
   ],
   "source": [
    "sns.barplot(x = outcome_table[:,0], y = outcome_table[:,1], color = \"lightblue\")\n",
    "plt.title(\"Frequency of Dice Matches\")\n",
    "plt.xlabel(\"Outcome (no. matches)\")\n",
    "plt.ylabel(\"Frequency\")\n",
    "pass"
   ]
  },
  {
   "cell_type": "markdown",
   "metadata": {},
   "source": [
    "## Finding the variance empirically"
   ]
  },
  {
   "cell_type": "markdown",
   "metadata": {},
   "source": [
    "In class, we derived the expectation by hand, but did not discuss how to calculate the variance. We can use Monte Carlo methods to estimate the variance. Write a simulation to estimate the variance of the random variable Y from Lucky Dice.\n",
    "\n",
    "- First, generate a large number of values (random draws)  from  the  distribution  of $Y$,  then  calculate  the  corresponding $y$ for  each  of  these values, and finally calculate the observed variance of $Y$.  \n",
    "- Similarly, you can get estimates for  the  expectation $E[Y]$ by calculating the observed mean. \n",
    "- Write  a  properly formatted function (readable with docstring and comments)  to  calculate the empirical mean and variance. Run the simulation for different  numbers  of random draws (e.g. 100, 1000, 10000, 100000). Describe your findings."
   ]
  },
  {
   "cell_type": "code",
   "execution_count": 87,
   "metadata": {},
   "outputs": [],
   "source": [
    "def lucky_sim(n_sim):\n",
    "    \"\"\"\n",
    "    This function calculates the empirical mean and variance of Y for a simulated game of \n",
    "    n_sim draws of lucky dice.\n",
    "    Y is defined as the profit per game played.\n",
    "    \"\"\"\n",
    "    \n",
    "    # set random seed for reproducibiliy\n",
    "    np.random.seed(12)\n",
    "    \n",
    "    # draw samples\n",
    "    lucky_dice = np.random.multinomial(n_sim, \n",
    "                                       (scipy.special.comb(3,0)*(1-1/6)**3,\n",
    "                                        scipy.special.comb(3,1)*(1/6)*(5/6)**2, \n",
    "                                        scipy.special.comb(3,2)*(5/6)*(1/6)**2, \n",
    "                                        scipy.special.comb(3,3)*(1/6)**3\n",
    "                                       )\n",
    "                                      )\n",
    "    # payout and frequency of each payout\n",
    "    outcome_table = np.array([[-1,1,2,3],lucky_dice]).T\n",
    "    \n",
    "    # compute expectation\n",
    "    emp_mean = np.sum(outcome_table[:,0]*outcome_table[:,1])/np.sum(outcome_table[:,1])\n",
    "    \n",
    "    # compute variance\n",
    "    emp_var = np.sum((outcome_table[:,0]**2)*outcome_table[:,1])/np.sum(outcome_table[:,1]) - emp_mean**2\n",
    "    # return results\n",
    "    return {\"Empirical Mean\":np.round(emp_mean,3), \"Empirical Var\":np.round(emp_var,3)}"
   ]
  },
  {
   "cell_type": "code",
   "execution_count": 88,
   "metadata": {
    "collapsed": true
   },
   "outputs": [
    {
     "data": {
      "text/plain": [
       "{'Empirical Mean': -0.17, 'Empirical Var': 1.121}"
      ]
     },
     "execution_count": 88,
     "metadata": {},
     "output_type": "execute_result"
    }
   ],
   "source": [
    "lucky_sim(100)"
   ]
  },
  {
   "cell_type": "code",
   "execution_count": 89,
   "metadata": {},
   "outputs": [
    {
     "name": "stdout",
     "output_type": "stream",
     "text": [
      "100 {'Empirical Mean': -0.17, 'Empirical Var': 1.121}\n",
      "1000 {'Empirical Mean': -0.118, 'Empirical Var': 1.204}\n",
      "10000 {'Empirical Mean': -0.093, 'Empirical Var': 1.227}\n",
      "1000000 {'Empirical Mean': -0.08, 'Empirical Var': 1.238}\n"
     ]
    }
   ],
   "source": [
    "for sim_size in [10**2, 10**3, 10**4, 10**6]:\n",
    "    # run simulation\n",
    "    result = lucky_sim(sim_size)\n",
    "    print(sim_size, result)"
   ]
  },
  {
   "cell_type": "code",
   "execution_count": null,
   "metadata": {},
   "outputs": [],
   "source": [
    "stats.mu"
   ]
  }
 ],
 "metadata": {
  "kernelspec": {
   "display_name": "Python 3",
   "language": "python",
   "name": "python3"
  },
  "language_info": {
   "codemirror_mode": {
    "name": "ipython",
    "version": 3
   },
   "file_extension": ".py",
   "mimetype": "text/x-python",
   "name": "python",
   "nbconvert_exporter": "python",
   "pygments_lexer": "ipython3",
   "version": "3.7.3"
  }
 },
 "nbformat": 4,
 "nbformat_minor": 2
}
