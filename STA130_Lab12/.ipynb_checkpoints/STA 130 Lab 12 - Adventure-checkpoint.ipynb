{
 "cells": [
  {
   "cell_type": "markdown",
   "metadata": {},
   "source": [
    "# STA 130 Lab 12: Choose Your Own Adventure\n",
    "*Your Name Here*"
   ]
  },
  {
   "cell_type": "markdown",
   "metadata": {},
   "source": [
    "## Instructions\n",
    "\n",
    "Working in teams of 2-3 students, you will choose a dataset and analyze it during the lab.\n",
    "\n",
    "Your submission will consist of a document containing the following componenets:\n",
    "\n",
    "1. Pose a question and identify the variables from the data set you will use to answer it.  Note: if you choose to use only a subset of the data,  explain why and use that subset in the following steps. \n",
    "2. Perform exploratory data analysis, including descriptive statistics. Comments on any concerns such as outliers, linearity, etc.\n",
    "3. Create and present a visualization related to your research question.\n",
    "4. Perform a statistical test and/or build a model to help answer your question. Include your output and an interpetation of any relevant coefficients, test statistics, or other diagnostics.\n",
    "5. Write a one-paragraph conclusion that uses statistical evidence to provide an answer to your research question. Identify possible areas for further exploration that may not have been answered by your analysis.\n",
    "\n",
    "**Note:** Each team member must submit their own work. "
   ]
  },
  {
   "cell_type": "markdown",
   "metadata": {},
   "source": [
    "## Available data \n",
    "\n",
    "Tidy Tuesday or other data sources?"
   ]
  },
  {
   "cell_type": "code",
   "execution_count": null,
   "metadata": {},
   "outputs": [],
   "source": []
  },
  {
   "cell_type": "markdown",
   "metadata": {},
   "source": [
    "## Analysis"
   ]
  },
  {
   "cell_type": "code",
   "execution_count": null,
   "metadata": {},
   "outputs": [],
   "source": []
  },
  {
   "cell_type": "markdown",
   "metadata": {},
   "source": [
    "## Conclusion"
   ]
  },
  {
   "cell_type": "code",
   "execution_count": null,
   "metadata": {},
   "outputs": [],
   "source": []
  }
 ],
 "metadata": {
  "kernelspec": {
   "display_name": "Python 3",
   "language": "python",
   "name": "python3"
  },
  "language_info": {
   "codemirror_mode": {
    "name": "ipython",
    "version": 3
   },
   "file_extension": ".py",
   "mimetype": "text/x-python",
   "name": "python",
   "nbconvert_exporter": "python",
   "pygments_lexer": "ipython3",
   "version": "3.7.3"
  }
 },
 "nbformat": 4,
 "nbformat_minor": 2
}
