{
 "cells": [
  {
   "cell_type": "markdown",
   "metadata": {},
   "source": [
    "# STA 130 Lab 9: Goodness of Fit\n",
    "*Your Name Here*"
   ]
  },
  {
   "cell_type": "markdown",
   "metadata": {},
   "source": [
    "## Goodness of Fit Tests\n",
    "\n",
    "In the United States, criminal defendants are entitle to a trial by a jury of their peers. But is this truly what occurs in the judicial system? A study in the UCLA Law Review (1973) of grand juries in Alameda County, California compared the demographic characteristics of a random sample of jurors with the general population. Below are the data for age and educational level. Only persons 21 and over are considered. Population-level data were obtained from the county's Department of Public Health.\n",
    "\n",
    "| Age        | County Wide %           | # Jurors  |\n",
    "| ------------- |:-------------:| -----:|\n",
    "| 21 - 40      | 42 | 5 |\n",
    "| 40 - 50      | 23      |   9 |\n",
    "| 51 - 60 | 16      |    19 |\n",
    "| >60 | 19      |    33 |\n",
    "| Total | 100      |    66 |\n",
    "\n",
    "\n",
    "\n",
    "| Education Level        | County Wide %           | # Jurors  |\n",
    "| ------------- |:-------------:| -----:|\n",
    "| Elementary      | 28.4 | 1 |\n",
    "| Secondary | 48.5      |   10 |\n",
    "| Some College | 11.9      |    16 |\n",
    "| College Degree | 11.2      |    35 |\n",
    "| Total | 100      |    62 |"
   ]
  },
  {
   "cell_type": "code",
   "execution_count": 3,
   "metadata": {},
   "outputs": [],
   "source": [
    "import scipy.stats as stats\n",
    "import numpy as np"
   ]
  },
  {
   "cell_type": "markdown",
   "metadata": {},
   "source": [
    "1. Test whether the juries appear to be randomly selected with respect to the distribution of age. Report the sample and population percentages in each age group, the value of the chi-squared test statistic and its degrees of freedom, the p-value, and your conclusion."
   ]
  },
  {
   "cell_type": "code",
   "execution_count": 6,
   "metadata": {},
   "outputs": [
    {
     "data": {
      "text/plain": [
       "Power_divergenceResult(statistic=61.265555605086504, pvalue=3.1537312467772857e-13)"
      ]
     },
     "execution_count": 6,
     "metadata": {},
     "output_type": "execute_result"
    }
   ],
   "source": [
    "age_obs = np.array([5,9,19,33]) # observed counts\n",
    "age_exp = np.array([.42, .23, .16, .19])*sum(age_obs) # expected counts based on relative pop frequencies\n",
    "stats.chisquare(age_obs, age_exp)"
   ]
  },
  {
   "cell_type": "code",
   "execution_count": 8,
   "metadata": {},
   "outputs": [
    {
     "data": {
      "text/plain": [
       "array([0.07575758, 0.13636364, 0.28787879, 0.5       ])"
      ]
     },
     "execution_count": 8,
     "metadata": {},
     "output_type": "execute_result"
    }
   ],
   "source": [
    "age_obs/sum(age_obs) # relative freq in sample"
   ]
  },
  {
   "cell_type": "markdown",
   "metadata": {},
   "source": [
    "2. Perform the chi-squared goodness of fit test for the education data by hand. Report your hypotheses, the elements of the $\\chi^2$ test statistic, the degrees of freedom, the p-value, and your conclusions. Then use Python to check your answer. All raw calculations must be submitted for full credit, you may not submit only the computer-generated results."
   ]
  },
  {
   "cell_type": "code",
   "execution_count": null,
   "metadata": {},
   "outputs": [],
   "source": []
  },
  {
   "cell_type": "markdown",
   "metadata": {},
   "source": [
    "## Tests for Independence \n",
    "\n",
    "Do individuals' opinions of their appearance change with age? A survey reported in Newsweek (Spring/Summer 1999) asked 747 randomly selected women the questions, \"How satisfied are you with your overall appearance?\". The number of women who chose each of four possible responses are tabulated below.\n",
    "\n",
    "| Age | Very | Somewhat  | Not Too | Not at all |\n",
    "| --- | ---- | --------- | ------- | ---------- |\n",
    "| Under 30 | 45 | 82 | 10 | 4 | \n",
    "| 30 - 49 | 73 | 168 | 47 | 6 | \n",
    "| Over 50 | 106 | 153 | 41 | 12 | "
   ]
  },
  {
   "cell_type": "markdown",
   "metadata": {},
   "source": [
    "3. Test the null hypothesis that women’s satisfaction with their appearance is not associated with age. Report the sample percentages in each age group, the value of the chi-squared test statistic and its degrees of freedom, the p-value, and your conclusion."
   ]
  },
  {
   "cell_type": "code",
   "execution_count": null,
   "metadata": {},
   "outputs": [],
   "source": []
  },
  {
   "cell_type": "markdown",
   "metadata": {},
   "source": [
    "4. Assuming the null hypothesis is true, calculate by hand the expected number of women under age 30 in a random sample of 747 women who would be very satisfied with their appearance."
   ]
  },
  {
   "cell_type": "code",
   "execution_count": null,
   "metadata": {},
   "outputs": [],
   "source": []
  }
 ],
 "metadata": {
  "kernelspec": {
   "display_name": "Python 3",
   "language": "python",
   "name": "python3"
  },
  "language_info": {
   "codemirror_mode": {
    "name": "ipython",
    "version": 3
   },
   "file_extension": ".py",
   "mimetype": "text/x-python",
   "name": "python",
   "nbconvert_exporter": "python",
   "pygments_lexer": "ipython3",
   "version": "3.7.3"
  }
 },
 "nbformat": 4,
 "nbformat_minor": 2
}
