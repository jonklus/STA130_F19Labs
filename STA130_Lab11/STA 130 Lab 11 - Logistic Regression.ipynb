{
 "cells": [
  {
   "cell_type": "markdown",
   "metadata": {},
   "source": [
    "# STA 130 Lab 11: Logistic Regression\n",
    "*Your Name Here*"
   ]
  },
  {
   "cell_type": "markdown",
   "metadata": {},
   "source": [
    "## Objective\n",
    "The purpose of the lab is to explore logistic regression in R.\n",
    "\n",
    "## Lab Procedures\n",
    "In this lab you will be working with a dataset from the The World Meteorological Organization which contains data about people affected by the 2017 Hurricane Irma. The goal in this lab is to use logistic regression to model the probability that an individual survives a hurricane. Take some time to review the supplemental material provided in class about logistic regression as well as the description of data provided within this project. "
   ]
  },
  {
   "cell_type": "code",
   "execution_count": 2,
   "metadata": {},
   "outputs": [],
   "source": [
    "import pandas as pd\n",
    "import statsmodels.api as stats"
   ]
  },
  {
   "cell_type": "markdown",
   "metadata": {},
   "source": [
    "__1__ Explore the data. Use the `describe` method to gain an understanding of your data. Write 2 to 3 observations about the data. Are NA values prevalent in the data? Explain why this may or may not be an issue later on. "
   ]
  },
  {
   "cell_type": "code",
   "execution_count": 4,
   "metadata": {},
   "outputs": [
    {
     "data": {
      "text/html": [
       "<div>\n",
       "<style scoped>\n",
       "    .dataframe tbody tr th:only-of-type {\n",
       "        vertical-align: middle;\n",
       "    }\n",
       "\n",
       "    .dataframe tbody tr th {\n",
       "        vertical-align: top;\n",
       "    }\n",
       "\n",
       "    .dataframe thead th {\n",
       "        text-align: right;\n",
       "    }\n",
       "</style>\n",
       "<table border=\"1\" class=\"dataframe\">\n",
       "  <thead>\n",
       "    <tr style=\"text-align: right;\">\n",
       "      <th></th>\n",
       "      <th>ID</th>\n",
       "      <th>DOB</th>\n",
       "      <th>M_STATUS</th>\n",
       "      <th>SALARY</th>\n",
       "      <th>EDU_DATA</th>\n",
       "      <th>EMP_DATA</th>\n",
       "      <th>REL_ORIEN</th>\n",
       "      <th>FAV_TV</th>\n",
       "      <th>PREF_CAR</th>\n",
       "      <th>GENDER</th>\n",
       "      <th>...</th>\n",
       "      <th>FAV_COLR</th>\n",
       "      <th>NEWS_SOURCE</th>\n",
       "      <th>DIST_FRM_COAST</th>\n",
       "      <th>MNTLY_TRAVEL</th>\n",
       "      <th>GEN_MOVIES</th>\n",
       "      <th>FAV_SUBJ</th>\n",
       "      <th>ALCOHOL</th>\n",
       "      <th>FAV_SUPERHERO</th>\n",
       "      <th>Dist_Coast</th>\n",
       "      <th>Class</th>\n",
       "    </tr>\n",
       "  </thead>\n",
       "  <tbody>\n",
       "    <tr>\n",
       "      <th>0</th>\n",
       "      <td>3345.0</td>\n",
       "      <td>7/22/1964</td>\n",
       "      <td>Married</td>\n",
       "      <td>0-100K</td>\n",
       "      <td>Post-Graduate</td>\n",
       "      <td>Unemployed</td>\n",
       "      <td>Believer</td>\n",
       "      <td>How I Met your mother</td>\n",
       "      <td>Ford</td>\n",
       "      <td>Male</td>\n",
       "      <td>...</td>\n",
       "      <td>Green</td>\n",
       "      <td>New York Times</td>\n",
       "      <td>10-25 KM</td>\n",
       "      <td>250-500 KM</td>\n",
       "      <td>Comedy</td>\n",
       "      <td>Art</td>\n",
       "      <td>Gin</td>\n",
       "      <td>The hulk</td>\n",
       "      <td>462.0</td>\n",
       "      <td>y</td>\n",
       "    </tr>\n",
       "    <tr>\n",
       "      <th>1</th>\n",
       "      <td>3346.0</td>\n",
       "      <td>9/9/1981</td>\n",
       "      <td>Unmarried</td>\n",
       "      <td>300k-500k</td>\n",
       "      <td>High-School</td>\n",
       "      <td>Employed</td>\n",
       "      <td>Believer</td>\n",
       "      <td>Big Bang Theory</td>\n",
       "      <td>Daimler-Benz</td>\n",
       "      <td>Male</td>\n",
       "      <td>...</td>\n",
       "      <td>Orange</td>\n",
       "      <td>Associated Press</td>\n",
       "      <td>60-80 KM</td>\n",
       "      <td>500-1000 KM</td>\n",
       "      <td>Thriller</td>\n",
       "      <td>Maths</td>\n",
       "      <td>Non Drinkers</td>\n",
       "      <td>Thor</td>\n",
       "      <td>269.0</td>\n",
       "      <td>y</td>\n",
       "    </tr>\n",
       "    <tr>\n",
       "      <th>2</th>\n",
       "      <td>3347.0</td>\n",
       "      <td>5/8/1978</td>\n",
       "      <td>Married</td>\n",
       "      <td>100k-300k</td>\n",
       "      <td>High-School</td>\n",
       "      <td>Employed</td>\n",
       "      <td>Believer</td>\n",
       "      <td>Flash</td>\n",
       "      <td>Suzuki</td>\n",
       "      <td>Male</td>\n",
       "      <td>...</td>\n",
       "      <td>White</td>\n",
       "      <td>Fox News</td>\n",
       "      <td>10-25 KM</td>\n",
       "      <td>0-250 KM</td>\n",
       "      <td>Horror</td>\n",
       "      <td>Chemistry</td>\n",
       "      <td>Rum</td>\n",
       "      <td>spiderman</td>\n",
       "      <td>1308.0</td>\n",
       "      <td>x</td>\n",
       "    </tr>\n",
       "    <tr>\n",
       "      <th>3</th>\n",
       "      <td>3348.0</td>\n",
       "      <td>6/21/1978</td>\n",
       "      <td>Unmarried</td>\n",
       "      <td>300k-500k</td>\n",
       "      <td>Graduate</td>\n",
       "      <td>Employed</td>\n",
       "      <td>Agnostic</td>\n",
       "      <td>Friends</td>\n",
       "      <td>Audi</td>\n",
       "      <td>Male</td>\n",
       "      <td>...</td>\n",
       "      <td>Green</td>\n",
       "      <td>BBC</td>\n",
       "      <td>0-10 KM</td>\n",
       "      <td>0-250 KM</td>\n",
       "      <td>Romantic</td>\n",
       "      <td>English</td>\n",
       "      <td>wine</td>\n",
       "      <td>Ironman</td>\n",
       "      <td>1039.0</td>\n",
       "      <td>y</td>\n",
       "    </tr>\n",
       "    <tr>\n",
       "      <th>4</th>\n",
       "      <td>3349.0</td>\n",
       "      <td>12/14/1968</td>\n",
       "      <td>Unmarried</td>\n",
       "      <td>500k-700k</td>\n",
       "      <td>High-School</td>\n",
       "      <td>Unemployed</td>\n",
       "      <td>Agnostic</td>\n",
       "      <td>Prison Break</td>\n",
       "      <td>BMW</td>\n",
       "      <td>Male</td>\n",
       "      <td>...</td>\n",
       "      <td>Black</td>\n",
       "      <td>Fox News</td>\n",
       "      <td>10-25 KM</td>\n",
       "      <td>0-250 KM</td>\n",
       "      <td>Thriller</td>\n",
       "      <td>Biology</td>\n",
       "      <td>Vodka</td>\n",
       "      <td>Thor</td>\n",
       "      <td>272.0</td>\n",
       "      <td>y</td>\n",
       "    </tr>\n",
       "  </tbody>\n",
       "</table>\n",
       "<p>5 rows × 24 columns</p>\n",
       "</div>"
      ],
      "text/plain": [
       "       ID         DOB   M_STATUS     SALARY       EDU_DATA    EMP_DATA  \\\n",
       "0  3345.0   7/22/1964    Married     0-100K  Post-Graduate  Unemployed   \n",
       "1  3346.0    9/9/1981  Unmarried  300k-500k    High-School    Employed   \n",
       "2  3347.0    5/8/1978    Married  100k-300k    High-School    Employed   \n",
       "3  3348.0   6/21/1978  Unmarried  300k-500k       Graduate    Employed   \n",
       "4  3349.0  12/14/1968  Unmarried  500k-700k    High-School  Unemployed   \n",
       "\n",
       "  REL_ORIEN                 FAV_TV      PREF_CAR GENDER  ...  FAV_COLR  \\\n",
       "0  Believer  How I Met your mother          Ford   Male  ...     Green   \n",
       "1  Believer        Big Bang Theory  Daimler-Benz   Male  ...    Orange   \n",
       "2  Believer                  Flash        Suzuki   Male  ...     White   \n",
       "3  Agnostic                Friends          Audi   Male  ...     Green   \n",
       "4  Agnostic           Prison Break           BMW   Male  ...     Black   \n",
       "\n",
       "        NEWS_SOURCE DIST_FRM_COAST MNTLY_TRAVEL GEN_MOVIES   FAV_SUBJ  \\\n",
       "0    New York Times       10-25 KM   250-500 KM     Comedy        Art   \n",
       "1  Associated Press       60-80 KM  500-1000 KM   Thriller      Maths   \n",
       "2          Fox News       10-25 KM     0-250 KM     Horror  Chemistry   \n",
       "3               BBC        0-10 KM     0-250 KM   Romantic    English   \n",
       "4          Fox News       10-25 KM     0-250 KM   Thriller    Biology   \n",
       "\n",
       "        ALCOHOL FAV_SUPERHERO Dist_Coast Class  \n",
       "0           Gin      The hulk      462.0     y  \n",
       "1  Non Drinkers          Thor      269.0     y  \n",
       "2           Rum     spiderman     1308.0     x  \n",
       "3          wine       Ironman     1039.0     y  \n",
       "4         Vodka          Thor      272.0     y  \n",
       "\n",
       "[5 rows x 24 columns]"
      ]
     },
     "execution_count": 4,
     "metadata": {},
     "output_type": "execute_result"
    }
   ],
   "source": [
    "irma_df = pd.read_csv(\"hurricane_irma_survival.csv\")\n",
    "irma_df.head(5)"
   ]
  },
  {
   "cell_type": "code",
   "execution_count": 5,
   "metadata": {},
   "outputs": [
    {
     "data": {
      "text/html": [
       "<div>\n",
       "<style scoped>\n",
       "    .dataframe tbody tr th:only-of-type {\n",
       "        vertical-align: middle;\n",
       "    }\n",
       "\n",
       "    .dataframe tbody tr th {\n",
       "        vertical-align: top;\n",
       "    }\n",
       "\n",
       "    .dataframe thead th {\n",
       "        text-align: right;\n",
       "    }\n",
       "</style>\n",
       "<table border=\"1\" class=\"dataframe\">\n",
       "  <thead>\n",
       "    <tr style=\"text-align: right;\">\n",
       "      <th></th>\n",
       "      <th>ID</th>\n",
       "      <th>Dist_Coast</th>\n",
       "    </tr>\n",
       "  </thead>\n",
       "  <tbody>\n",
       "    <tr>\n",
       "      <th>count</th>\n",
       "      <td>5020.000000</td>\n",
       "      <td>5020.000000</td>\n",
       "    </tr>\n",
       "    <tr>\n",
       "      <th>mean</th>\n",
       "      <td>5854.500000</td>\n",
       "      <td>762.785259</td>\n",
       "    </tr>\n",
       "    <tr>\n",
       "      <th>std</th>\n",
       "      <td>1449.293506</td>\n",
       "      <td>423.648520</td>\n",
       "    </tr>\n",
       "    <tr>\n",
       "      <th>min</th>\n",
       "      <td>3345.000000</td>\n",
       "      <td>40.000000</td>\n",
       "    </tr>\n",
       "    <tr>\n",
       "      <th>25%</th>\n",
       "      <td>4599.750000</td>\n",
       "      <td>392.000000</td>\n",
       "    </tr>\n",
       "    <tr>\n",
       "      <th>50%</th>\n",
       "      <td>5854.500000</td>\n",
       "      <td>756.500000</td>\n",
       "    </tr>\n",
       "    <tr>\n",
       "      <th>75%</th>\n",
       "      <td>7109.250000</td>\n",
       "      <td>1127.000000</td>\n",
       "    </tr>\n",
       "    <tr>\n",
       "      <th>max</th>\n",
       "      <td>8364.000000</td>\n",
       "      <td>1500.000000</td>\n",
       "    </tr>\n",
       "  </tbody>\n",
       "</table>\n",
       "</div>"
      ],
      "text/plain": [
       "                ID   Dist_Coast\n",
       "count  5020.000000  5020.000000\n",
       "mean   5854.500000   762.785259\n",
       "std    1449.293506   423.648520\n",
       "min    3345.000000    40.000000\n",
       "25%    4599.750000   392.000000\n",
       "50%    5854.500000   756.500000\n",
       "75%    7109.250000  1127.000000\n",
       "max    8364.000000  1500.000000"
      ]
     },
     "execution_count": 5,
     "metadata": {},
     "output_type": "execute_result"
    }
   ],
   "source": [
    "irma_df.describe()"
   ]
  },
  {
   "cell_type": "markdown",
   "metadata": {},
   "source": [
    "__2__ Create a dummy variable called SWIM which has a value of one if the individual's favorite sport is Swimming. Create another dummy variable called SURVIVE which has a value of 1 if the individual will survive the hurricane and otherwise has a value of 0 (Hint: Look at the data dictionary to figure out how to determine whether someone will survive). Based on the summary of data you created in the previous step, are there any additional dummy variables you think may be useful? If so, go ahead and create them here."
   ]
  },
  {
   "cell_type": "code",
   "execution_count": null,
   "metadata": {},
   "outputs": [],
   "source": []
  },
  {
   "cell_type": "markdown",
   "metadata": {},
   "source": [
    "__3__ Visualize. Does the dummy variable SWIM seem to be related to survival? Visualize this relationship using `matplotlib` or `seaborn`. Consider creating a jitter plot. Jitter plots make it easier to visualize discrete variables as they will add slight variation so all points are visible. To draw conclusions for this graph, look for a difference in density of points. If SWIM equals 1, are the points more densely concentrated around SURVIVE = 1 or SURVIVE = 0?"
   ]
  },
  {
   "cell_type": "code",
   "execution_count": null,
   "metadata": {},
   "outputs": [],
   "source": []
  },
  {
   "cell_type": "markdown",
   "metadata": {},
   "source": [
    "__4__ Model. Build a logistic regression model called `glm1` using SURVIVE as the response and SWIM as the predictor. The function we use for logistic regression takes the following form: `logistic = stats.glm(response, predictor, data = dataframe, family = 'binomial')`. In this function, glm stands for generalized linear model. The option setting family equal to binomial indicates that the response is binary (Poisson is another option here in which the response would be count data). Run a `summary()` on the logistic model you just created. Does SWIM appear to be a significant predictor at the $\\alpha=.05$ level? How about the $\\alpha=.01$ level? "
   ]
  },
  {
   "cell_type": "code",
   "execution_count": null,
   "metadata": {},
   "outputs": [],
   "source": [
    "stats.GLM()"
   ]
  },
  {
   "cell_type": "markdown",
   "metadata": {},
   "source": [
    "__5__ Write one to two sentences interpreting the coefficient for SWIM. Recall that logistic regression uses the logit function. The function for the above model is $logit(p) = \\log(p/(1-p)) = \\beta_0 + \\beta_1 SWIM$. To interpret the coefficient here, take the exponential of the coefficient ($\\exp(\\beta_1)$). If this is greater than 1, it indicates an increase in probability, numbers less than 1 indicate a decrease. For further explanation, see the resources."
   ]
  },
  {
   "cell_type": "code",
   "execution_count": null,
   "metadata": {},
   "outputs": [],
   "source": []
  },
  {
   "cell_type": "markdown",
   "metadata": {},
   "source": [
    "__6__ Create a confusion matrix on the model. What percentage of observations did the model correctly classify? Do you think this model does a good job? Why or why not?"
   ]
  },
  {
   "cell_type": "code",
   "execution_count": null,
   "metadata": {},
   "outputs": [],
   "source": []
  },
  {
   "cell_type": "markdown",
   "metadata": {},
   "source": [
    "__7__ Now, we will try adding an additional predictor to the model. Plot the relationship between NEWS_SOURCE and SURVIVE.  Are there any values of NEWS_SOURCE you think may be important when trying to predict survival?"
   ]
  },
  {
   "cell_type": "code",
   "execution_count": null,
   "metadata": {},
   "outputs": [],
   "source": []
  },
  {
   "cell_type": "markdown",
   "metadata": {},
   "source": [
    "__8__ Model. Build another logistic regression model called glm2 using SURVIVE as the response and both SWIM and NEWS_SOURCE as predictors. The function we use for logistic regression takes the following form: `logistic = stats.glm(response, predictor1 + predictor2, data = dataframe, family = 'binomial')`. Run a `summary()` on the logistic model you just created. How many new coefficients were added to the model by incorporating NEWS_SOURCE? How many of these appear to be significant at the $\\alpha = .05$ level? Did the coefficient for SWIM change after adding NEWS_SOURCE to the model?"
   ]
  },
  {
   "cell_type": "code",
   "execution_count": null,
   "metadata": {},
   "outputs": [],
   "source": []
  },
  {
   "cell_type": "markdown",
   "metadata": {},
   "source": [
    "__9__ With categorical variables like NEWS_SOURCE, coefficients indicate a higher or lower probability of survival in relation to a \"base\" category. This category is the one that is not represented with a coefficient. Which value of NEWS_SOURCE is the base category in this model? Write one to two sentences interpreting 2 or 3 of the NEWS_SOURCE coefficients.\n"
   ]
  },
  {
   "cell_type": "code",
   "execution_count": null,
   "metadata": {},
   "outputs": [],
   "source": []
  },
  {
   "cell_type": "markdown",
   "metadata": {},
   "source": [
    "__10__ Create a confusion matrix for the new model. What percentage of observations did the model correctly classify? Does this model appear to do a better job at identifying individuals who survived? \n"
   ]
  },
  {
   "cell_type": "code",
   "execution_count": null,
   "metadata": {},
   "outputs": [],
   "source": []
  },
  {
   "cell_type": "markdown",
   "metadata": {},
   "source": [
    "__11__ Use your findings in this lab to write a recommendation to the World Meteorological Organization. Are there any additional variables you think WMO should consider collecting for future analyses? Would you consider this to be a good model? Why or why not?"
   ]
  },
  {
   "cell_type": "code",
   "execution_count": null,
   "metadata": {},
   "outputs": [],
   "source": []
  }
 ],
 "metadata": {
  "kernelspec": {
   "display_name": "Python 3",
   "language": "python",
   "name": "python3"
  },
  "language_info": {
   "codemirror_mode": {
    "name": "ipython",
    "version": 3
   },
   "file_extension": ".py",
   "mimetype": "text/x-python",
   "name": "python",
   "nbconvert_exporter": "python",
   "pygments_lexer": "ipython3",
   "version": "3.7.3"
  }
 },
 "nbformat": 4,
 "nbformat_minor": 2
}
